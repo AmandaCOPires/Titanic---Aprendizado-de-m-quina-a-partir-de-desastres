{
  "nbformat": 4,
  "nbformat_minor": 0,
  "metadata": {
    "colab": {
      "provenance": []
    },
    "kernelspec": {
      "name": "python3",
      "display_name": "Python 3"
    },
    "language_info": {
      "name": "python"
    }
  },
  "cells": [
    {
      "cell_type": "markdown",
      "source": [
        "# **Projeto Titanic - Introdução à Ciência de Dados**\n",
        "\n",
        "Amanda Caroline de Oliveira Pires\n",
        "\n",
        "12559090"
      ],
      "metadata": {
        "id": "d7RUyCbNtTLf"
      }
    },
    {
      "cell_type": "markdown",
      "source": [
        "## **Bibliotecas e Funções**"
      ],
      "metadata": {
        "id": "SEwic3hbtl3_"
      }
    },
    {
      "cell_type": "code",
      "execution_count": 42,
      "metadata": {
        "id": "bXDR97zXoJDj"
      },
      "outputs": [],
      "source": [
        "import pandas as pd\n",
        "import numpy as np\n",
        "import matplotlib.pyplot as plt\n",
        "import seaborn as sns\n",
        "import time\n",
        "sns.set_style('whitegrid')"
      ]
    },
    {
      "cell_type": "code",
      "source": [
        "from sklearn.preprocessing import OneHotEncoder, LabelEncoder, label_binarize\n",
        "from sklearn.model_selection import train_test_split\n",
        "from sklearn import model_selection, tree, preprocessing, metrics, linear_model\n",
        "from sklearn.ensemble import GradientBoostingClassifier, RandomForestClassifier\n",
        "from sklearn.neighbors import KNeighborsClassifier\n",
        "from sklearn.naive_bayes import GaussianNB\n",
        "from sklearn.preprocessing import StandardScaler\n",
        "from sklearn.decomposition import PCA\n",
        "from sklearn.cluster import KMeans\n",
        "from sklearn.metrics.cluster import normalized_mutual_info_score\n",
        "from sklearn.model_selection import GridSearchCV\n",
        "from sklearn.linear_model import LinearRegression, LogisticRegression\n",
        "from sklearn.svm import LinearSVC\n",
        "from matplotlib.gridspec import GridSpec\n",
        "from sklearn.calibration import CalibrationDisplay\n",
        "from sklearn.ensemble import RandomForestClassifier\n",
        "from sklearn.linear_model import LogisticRegression\n",
        "from sklearn.ensemble import RandomForestClassifier\n",
        "from sklearn.model_selection import StratifiedKFold\n",
        "from sklearn.model_selection import KFold\n",
        "from sklearn.metrics import accuracy_score\n",
        "from sklearn.metrics import roc_auc_score\n",
        "from sklearn import svm\n",
        "from sklearn.tree import DecisionTreeClassifier\n",
        "from sklearn.neighbors import KNeighborsClassifier\n",
        "from sklearn.svm import SVC\n",
        "from sklearn.pipeline import make_pipeline\n",
        "from sklearn.preprocessing import StandardScaler"
      ],
      "metadata": {
        "id": "BhwxQBZtt5c7"
      },
      "execution_count": 43,
      "outputs": []
    },
    {
      "cell_type": "markdown",
      "source": [
        "---"
      ],
      "metadata": {
        "id": "cltaOaSI01Am"
      }
    },
    {
      "cell_type": "markdown",
      "source": [
        "## **Leitura dos dados**"
      ],
      "metadata": {
        "id": "8g8Gf8RvuC4K"
      }
    },
    {
      "cell_type": "code",
      "source": [
        "test = pd.read_csv('/content/test.csv', header=(0))\n",
        "train = pd.read_csv('/content/train.csv', header=(0))\n",
        "\n",
        "#display(test)\n",
        "#display(train)\n",
        "\n",
        "# Verificando a quantidade de linhas e colunas em ambas as bases\n",
        "\n",
        "print(\"Número de linhas e colunas no conjunto de treinamento:\", train.shape)\n",
        "print(\"Número de linhas e colunas no conjunto de teste:\", test.shape)\n",
        "attributes = list(train.columns)"
      ],
      "metadata": {
        "colab": {
          "base_uri": "https://localhost:8080/"
        },
        "id": "5CpCq3NcuGkg",
        "outputId": "4ea762a0-85bf-4cb5-ae29-376ec8d0246f"
      },
      "execution_count": 44,
      "outputs": [
        {
          "output_type": "stream",
          "name": "stdout",
          "text": [
            "Número de linhas e colunas no conjunto de treinamento: (891, 12)\n",
            "Número de linhas e colunas no conjunto de teste: (418, 11)\n"
          ]
        }
      ]
    },
    {
      "cell_type": "code",
      "source": [
        "# Distribuição da idade dos passageiros\n",
        "sns.displot(train['Age'], color = '#20B2AA')"
      ],
      "metadata": {
        "colab": {
          "base_uri": "https://localhost:8080/",
          "height": 382
        },
        "id": "Z415Hbxd7abt",
        "outputId": "b1d3065c-0a41-464c-b923-dd44ebf7a4a9"
      },
      "execution_count": 45,
      "outputs": [
        {
          "output_type": "execute_result",
          "data": {
            "text/plain": [
              "<seaborn.axisgrid.FacetGrid at 0x7f6789ef0e20>"
            ]
          },
          "metadata": {},
          "execution_count": 45
        },
        {
          "output_type": "display_data",
          "data": {
            "text/plain": [
              "<Figure size 360x360 with 1 Axes>"
            ],
            "image/png": "[encoded data removed]"
          },
          "metadata": {}
        }
      ]
    },
    {
      "cell_type": "markdown",
      "source": [
        "## **Limpeza e normalização dos dados**\n",
        "\n",
        "Alguns atributos são irrelavantes para analisar os dados, então removeremos os seguintes atributos dos conjuntos de teste e treinamento: **\"PassengerId\"**, **\"Name\"**, **\"Ticket\"** e **\"Cabin\"**.\n",
        "\n",
        "O atributo \"PassengerId\" só será relevante no final, quando formos submeter a solução no Kaggle e comparar a coluna de ID do passageiro com a coluna \"Survived\" que informa se o passageiro sobreviveu ou não, sendo assim, guardaremos essa informação."
      ],
      "metadata": {
        "id": "80Z71EdCvhI3"
      }
    },
    {
      "cell_type": "code",
      "source": [
        "train.drop(['PassengerId','Name', 'Ticket', 'Cabin'],axis = 1, inplace = True)\n",
        "train.head(5)"
      ],
      "metadata": {
        "colab": {
          "base_uri": "https://localhost:8080/",
          "height": 206
        },
        "id": "iFTCAVvnvjsQ",
        "outputId": "7b1bdf4e-beb3-4f9e-d964-6ec2632a2ffb"
      },
      "execution_count": 46,
      "outputs": [
        {
          "output_type": "execute_result",
          "data": {
            "text/plain": [
              "   Survived  Pclass     Sex   Age  SibSp  Parch     Fare Embarked\n",
              "0         0       3    male  22.0      1      0   7.2500        S\n",
              "1         1       1  female  38.0      1      0  71.2833        C\n",
              "2         1       3  female  26.0      0      0   7.9250        S\n",
              "3         1       1  female  35.0      1      0  53.1000        S\n",
              "4         0       3    male  35.0      0      0   8.0500        S"
            ],
            "text/html": [
              "\n",
              "  <div id=\"df-78d6157a-2df2-4e5f-97db-2b63f6f424b2\">\n",
              "    <div class=\"colab-df-container\">\n",
              "      <div>\n",
              "<style scoped>\n",
              "    .dataframe tbody tr th:only-of-type {\n",
              "        vertical-align: middle;\n",
              "    }\n",
              "\n",
              "    .dataframe tbody tr th {\n",
              "        vertical-align: top;\n",
              "    }\n",
              "\n",
              "    .dataframe thead th {\n",
              "        text-align: right;\n",
              "    }\n",
              "</style>\n",
              "<table border=\"1\" class=\"dataframe\">\n",
              "  <thead>\n",
              "    <tr style=\"text-align: right;\">\n",
              "      <th></th>\n",
              "      <th>Survived</th>\n",
              "      <th>Pclass</th>\n",
              "      <th>Sex</th>\n",
              "      <th>Age</th>\n",
              "      <th>SibSp</th>\n",
              "      <th>Parch</th>\n",
              "      <th>Fare</th>\n",
              "      <th>Embarked</th>\n",
              "    </tr>\n",
              "  </thead>\n",
              "  <tbody>\n",
              "    <tr>\n",
              "      <th>0</th>\n",
              "      <td>0</td>\n",
              "      <td>3</td>\n",
              "      <td>male</td>\n",
              "      <td>22.0</td>\n",
              "      <td>1</td>\n",
              "      <td>0</td>\n",
              "      <td>7.2500</td>\n",
              "      <td>S</td>\n",
              "    </tr>\n",
              "    <tr>\n",
              "      <th>1</th>\n",
              "      <td>1</td>\n",
              "      <td>1</td>\n",
              "      <td>female</td>\n",
              "      <td>38.0</td>\n",
              "      <td>1</td>\n",
              "      <td>0</td>\n",
              "      <td>71.2833</td>\n",
              "      <td>C</td>\n",
              "    </tr>\n",
              "    <tr>\n",
              "      <th>2</th>\n",
              "      <td>1</td>\n",
              "      <td>3</td>\n",
              "      <td>female</td>\n",
              "      <td>26.0</td>\n",
              "      <td>0</td>\n",
              "      <td>0</td>\n",
              "      <td>7.9250</td>\n",
              "      <td>S</td>\n",
              "    </tr>\n",
              "    <tr>\n",
              "      <th>3</th>\n",
              "      <td>1</td>\n",
              "      <td>1</td>\n",
              "      <td>female</td>\n",
              "      <td>35.0</td>\n",
              "      <td>1</td>\n",
              "      <td>0</td>\n",
              "      <td>53.1000</td>\n",
              "      <td>S</td>\n",
              "    </tr>\n",
              "    <tr>\n",
              "      <th>4</th>\n",
              "      <td>0</td>\n",
              "      <td>3</td>\n",
              "      <td>male</td>\n",
              "      <td>35.0</td>\n",
              "      <td>0</td>\n",
              "      <td>0</td>\n",
              "      <td>8.0500</td>\n",
              "      <td>S</td>\n",
              "    </tr>\n",
              "  </tbody>\n",
              "</table>\n",
              "</div>\n",
              "      <button class=\"colab-df-convert\" onclick=\"convertToInteractive('df-78d6157a-2df2-4e5f-97db-2b63f6f424b2')\"\n",
              "              title=\"Convert this dataframe to an interactive table.\"\n",
              "              style=\"display:none;\">\n",
              "        \n",
              "  <svg xmlns=\"http://www.w3.org/2000/svg\" height=\"24px\"viewBox=\"0 0 24 24\"\n",
              "       width=\"24px\">\n",
              "    <path d=\"M0 0h24v24H0V0z\" fill=\"none\"/>\n",
              "    <path d=\"M18.56 5.44l.94 2.06.94-2.06 2.06-.94-2.06-.94-.94-2.06-.94 2.06-2.06.94zm-11 1L8.5 8.5l.94-2.06 2.06-.94-2.06-.94L8.5 2.5l-.94 2.06-2.06.94zm10 10l.94 2.06.94-2.06 2.06-.94-2.06-.94-.94-2.06-.94 2.06-2.06.94z\"/><path d=\"M17.41 7.96l-1.37-1.37c-.4-.4-.92-.59-1.43-.59-.52 0-1.04.2-1.43.59L10.3 9.45l-7.72 7.72c-.78.78-.78 2.05 0 2.83L4 21.41c.39.39.9.59 1.41.59.51 0 1.02-.2 1.41-.59l7.78-7.78 2.81-2.81c.8-.78.8-2.07 0-2.86zM5.41 20L4 18.59l7.72-7.72 1.47 1.35L5.41 20z\"/>\n",
              "  </svg>\n",
              "      </button>\n",
              "      \n",
              "  <style>\n",
              "    .colab-df-container {\n",
              "      display:flex;\n",
              "      flex-wrap:wrap;\n",
              "      gap: 12px;\n",
              "    }\n",
              "\n",
              "    .colab-df-convert {\n",
              "      background-color: #E8F0FE;\n",
              "      border: none;\n",
              "      border-radius: 50%;\n",
              "      cursor: pointer;\n",
              "      display: none;\n",
              "      fill: #1967D2;\n",
              "      height: 32px;\n",
              "      padding: 0 0 0 0;\n",
              "      width: 32px;\n",
              "    }\n",
              "\n",
              "    .colab-df-convert:hover {\n",
              "      background-color: #E2EBFA;\n",
              "      box-shadow: 0px 1px 2px rgba(60, 64, 67, 0.3), 0px 1px 3px 1px rgba(60, 64, 67, 0.15);\n",
              "      fill: #174EA6;\n",
              "    }\n",
              "\n",
              "    [theme=dark] .colab-df-convert {\n",
              "      background-color: #3B4455;\n",
              "      fill: #D2E3FC;\n",
              "    }\n",
              "\n",
              "    [theme=dark] .colab-df-convert:hover {\n",
              "      background-color: #434B5C;\n",
              "      box-shadow: 0px 1px 3px 1px rgba(0, 0, 0, 0.15);\n",
              "      filter: drop-shadow(0px 1px 2px rgba(0, 0, 0, 0.3));\n",
              "      fill: #FFFFFF;\n",
              "    }\n",
              "  </style>\n",
              "\n",
              "      <script>\n",
              "        const buttonEl =\n",
              "          document.querySelector('#df-78d6157a-2df2-4e5f-97db-2b63f6f424b2 button.colab-df-convert');\n",
              "        buttonEl.style.display =\n",
              "          google.colab.kernel.accessAllowed ? 'block' : 'none';\n",
              "\n",
              "        async function convertToInteractive(key) {\n",
              "          const element = document.querySelector('#df-78d6157a-2df2-4e5f-97db-2b63f6f424b2');\n",
              "          const dataTable =\n",
              "            await google.colab.kernel.invokeFunction('convertToInteractive',\n",
              "                                                     [key], {});\n",
              "          if (!dataTable) return;\n",
              "\n",
              "          const docLinkHtml = 'Like what you see? Visit the ' +\n",
              "            '<a target=\"_blank\" href=https://colab.research.google.com/notebooks/data_table.ipynb>data table notebook</a>'\n",
              "            + ' to learn more about interactive tables.';\n",
              "          element.innerHTML = '';\n",
              "          dataTable['output_type'] = 'display_data';\n",
              "          await google.colab.output.renderOutput(dataTable, element);\n",
              "          const docLink = document.createElement('div');\n",
              "          docLink.innerHTML = docLinkHtml;\n",
              "          element.appendChild(docLink);\n",
              "        }\n",
              "      </script>\n",
              "    </div>\n",
              "  </div>\n",
              "  "
            ]
          },
          "metadata": {},
          "execution_count": 46
        }
      ]
    },
    {
      "cell_type": "code",
      "source": [
        "PassengerId_test = test['PassengerId']"
      ],
      "metadata": {
        "id": "sKuU04jHP8lt"
      },
      "execution_count": 47,
      "outputs": []
    },
    {
      "cell_type": "markdown",
      "source": [
        "## **Análise exploratória dos dados**"
      ],
      "metadata": {
        "id": "_qk0IRKphQ3l"
      }
    },
    {
      "cell_type": "code",
      "source": [
        "train.info()"
      ],
      "metadata": {
        "colab": {
          "base_uri": "https://localhost:8080/"
        },
        "id": "nXeJbPRyvj3y",
        "outputId": "45209a66-6c69-46ee-8431-41153600513a"
      },
      "execution_count": 48,
      "outputs": [
        {
          "output_type": "stream",
          "name": "stdout",
          "text": [
            "<class 'pandas.core.frame.DataFrame'>\n",
            "RangeIndex: 891 entries, 0 to 890\n",
            "Data columns (total 8 columns):\n",
            " #   Column    Non-Null Count  Dtype  \n",
            "---  ------    --------------  -----  \n",
            " 0   Survived  891 non-null    int64  \n",
            " 1   Pclass    891 non-null    int64  \n",
            " 2   Sex       891 non-null    object \n",
            " 3   Age       714 non-null    float64\n",
            " 4   SibSp     891 non-null    int64  \n",
            " 5   Parch     891 non-null    int64  \n",
            " 6   Fare      891 non-null    float64\n",
            " 7   Embarked  889 non-null    object \n",
            "dtypes: float64(2), int64(4), object(2)\n",
            "memory usage: 55.8+ KB\n"
          ]
        }
      ]
    },
    {
      "cell_type": "code",
      "source": [
        "# Verificando dados nulos\n",
        "train.isnull().sum()"
      ],
      "metadata": {
        "colab": {
          "base_uri": "https://localhost:8080/"
        },
        "id": "IYMshIOC2vfv",
        "outputId": "2cd26d9a-317a-42f5-be46-d61f16c04f15"
      },
      "execution_count": 49,
      "outputs": [
        {
          "output_type": "execute_result",
          "data": {
            "text/plain": [
              "Survived      0\n",
              "Pclass        0\n",
              "Sex           0\n",
              "Age         177\n",
              "SibSp         0\n",
              "Parch         0\n",
              "Fare          0\n",
              "Embarked      2\n",
              "dtype: int64"
            ]
          },
          "metadata": {},
          "execution_count": 49
        }
      ]
    },
    {
      "cell_type": "code",
      "source": [
        "train.describe()"
      ],
      "metadata": {
        "colab": {
          "base_uri": "https://localhost:8080/",
          "height": 300
        },
        "id": "XnyOryXt26fO",
        "outputId": "52c55fb0-24e5-48e4-c66b-69cdacd66adf"
      },
      "execution_count": 50,
      "outputs": [
        {
          "output_type": "execute_result",
          "data": {
            "text/plain": [
              "         Survived      Pclass         Age       SibSp       Parch        Fare\n",
              "count  891.000000  891.000000  714.000000  891.000000  891.000000  891.000000\n",
              "mean     0.383838    2.308642   29.699118    0.523008    0.381594   32.204208\n",
              "std      0.486592    0.836071   14.526497    1.102743    0.806057   49.693429\n",
              "min      0.000000    1.000000    0.420000    0.000000    0.000000    0.000000\n",
              "25%      0.000000    2.000000   20.125000    0.000000    0.000000    7.910400\n",
              "50%      0.000000    3.000000   28.000000    0.000000    0.000000   14.454200\n",
              "75%      1.000000    3.000000   38.000000    1.000000    0.000000   31.000000\n",
              "max      1.000000    3.000000   80.000000    8.000000    6.000000  512.329200"
            ],
            "text/html": [
              "\n",
              "  <div id=\"df-30e730f3-f087-4a47-a41c-d052ded918bd\">\n",
              "    <div class=\"colab-df-container\">\n",
              "      <div>\n",
              "<style scoped>\n",
              "    .dataframe tbody tr th:only-of-type {\n",
              "        vertical-align: middle;\n",
              "    }\n",
              "\n",
              "    .dataframe tbody tr th {\n",
              "        vertical-align: top;\n",
              "    }\n",
              "\n",
              "    .dataframe thead th {\n",
              "        text-align: right;\n",
              "    }\n",
              "</style>\n",
              "<table border=\"1\" class=\"dataframe\">\n",
              "  <thead>\n",
              "    <tr style=\"text-align: right;\">\n",
              "      <th></th>\n",
              "      <th>Survived</th>\n",
              "      <th>Pclass</th>\n",
              "      <th>Age</th>\n",
              "      <th>SibSp</th>\n",
              "      <th>Parch</th>\n",
              "      <th>Fare</th>\n",
              "    </tr>\n",
              "  </thead>\n",
              "  <tbody>\n",
              "    <tr>\n",
              "      <th>count</th>\n",
              "      <td>891.000000</td>\n",
              "      <td>891.000000</td>\n",
              "      <td>714.000000</td>\n",
              "      <td>891.000000</td>\n",
              "      <td>891.000000</td>\n",
              "      <td>891.000000</td>\n",
              "    </tr>\n",
              "    <tr>\n",
              "      <th>mean</th>\n",
              "      <td>0.383838</td>\n",
              "      <td>2.308642</td>\n",
              "      <td>29.699118</td>\n",
              "      <td>0.523008</td>\n",
              "      <td>0.381594</td>\n",
              "      <td>32.204208</td>\n",
              "    </tr>\n",
              "    <tr>\n",
              "      <th>std</th>\n",
              "      <td>0.486592</td>\n",
              "      <td>0.836071</td>\n",
              "      <td>14.526497</td>\n",
              "      <td>1.102743</td>\n",
              "      <td>0.806057</td>\n",
              "      <td>49.693429</td>\n",
              "    </tr>\n",
              "    <tr>\n",
              "      <th>min</th>\n",
              "      <td>0.000000</td>\n",
              "      <td>1.000000</td>\n",
              "      <td>0.420000</td>\n",
              "      <td>0.000000</td>\n",
              "      <td>0.000000</td>\n",
              "      <td>0.000000</td>\n",
              "    </tr>\n",
              "    <tr>\n",
              "      <th>25%</th>\n",
              "      <td>0.000000</td>\n",
              "      <td>2.000000</td>\n",
              "      <td>20.125000</td>\n",
              "      <td>0.000000</td>\n",
              "      <td>0.000000</td>\n",
              "      <td>7.910400</td>\n",
              "    </tr>\n",
              "    <tr>\n",
              "      <th>50%</th>\n",
              "      <td>0.000000</td>\n",
              "      <td>3.000000</td>\n",
              "      <td>28.000000</td>\n",
              "      <td>0.000000</td>\n",
              "      <td>0.000000</td>\n",
              "      <td>14.454200</td>\n",
              "    </tr>\n",
              "    <tr>\n",
              "      <th>75%</th>\n",
              "      <td>1.000000</td>\n",
              "      <td>3.000000</td>\n",
              "      <td>38.000000</td>\n",
              "      <td>1.000000</td>\n",
              "      <td>0.000000</td>\n",
              "      <td>31.000000</td>\n",
              "    </tr>\n",
              "    <tr>\n",
              "      <th>max</th>\n",
              "      <td>1.000000</td>\n",
              "      <td>3.000000</td>\n",
              "      <td>80.000000</td>\n",
              "      <td>8.000000</td>\n",
              "      <td>6.000000</td>\n",
              "      <td>512.329200</td>\n",
              "    </tr>\n",
              "  </tbody>\n",
              "</table>\n",
              "</div>\n",
              "      <button class=\"colab-df-convert\" onclick=\"convertToInteractive('df-30e730f3-f087-4a47-a41c-d052ded918bd')\"\n",
              "              title=\"Convert this dataframe to an interactive table.\"\n",
              "              style=\"display:none;\">\n",
              "        \n",
              "  <svg xmlns=\"http://www.w3.org/2000/svg\" height=\"24px\"viewBox=\"0 0 24 24\"\n",
              "       width=\"24px\">\n",
              "    <path d=\"M0 0h24v24H0V0z\" fill=\"none\"/>\n",
              "    <path d=\"M18.56 5.44l.94 2.06.94-2.06 2.06-.94-2.06-.94-.94-2.06-.94 2.06-2.06.94zm-11 1L8.5 8.5l.94-2.06 2.06-.94-2.06-.94L8.5 2.5l-.94 2.06-2.06.94zm10 10l.94 2.06.94-2.06 2.06-.94-2.06-.94-.94-2.06-.94 2.06-2.06.94z\"/><path d=\"M17.41 7.96l-1.37-1.37c-.4-.4-.92-.59-1.43-.59-.52 0-1.04.2-1.43.59L10.3 9.45l-7.72 7.72c-.78.78-.78 2.05 0 2.83L4 21.41c.39.39.9.59 1.41.59.51 0 1.02-.2 1.41-.59l7.78-7.78 2.81-2.81c.8-.78.8-2.07 0-2.86zM5.41 20L4 18.59l7.72-7.72 1.47 1.35L5.41 20z\"/>\n",
              "  </svg>\n",
              "      </button>\n",
              "      \n",
              "  <style>\n",
              "    .colab-df-container {\n",
              "      display:flex;\n",
              "      flex-wrap:wrap;\n",
              "      gap: 12px;\n",
              "    }\n",
              "\n",
              "    .colab-df-convert {\n",
              "      background-color: #E8F0FE;\n",
              "      border: none;\n",
              "      border-radius: 50%;\n",
              "      cursor: pointer;\n",
              "      display: none;\n",
              "      fill: #1967D2;\n",
              "      height: 32px;\n",
              "      padding: 0 0 0 0;\n",
              "      width: 32px;\n",
              "    }\n",
              "\n",
              "    .colab-df-convert:hover {\n",
              "      background-color: #E2EBFA;\n",
              "      box-shadow: 0px 1px 2px rgba(60, 64, 67, 0.3), 0px 1px 3px 1px rgba(60, 64, 67, 0.15);\n",
              "      fill: #174EA6;\n",
              "    }\n",
              "\n",
              "    [theme=dark] .colab-df-convert {\n",
              "      background-color: #3B4455;\n",
              "      fill: #D2E3FC;\n",
              "    }\n",
              "\n",
              "    [theme=dark] .colab-df-convert:hover {\n",
              "      background-color: #434B5C;\n",
              "      box-shadow: 0px 1px 3px 1px rgba(0, 0, 0, 0.15);\n",
              "      filter: drop-shadow(0px 1px 2px rgba(0, 0, 0, 0.3));\n",
              "      fill: #FFFFFF;\n",
              "    }\n",
              "  </style>\n",
              "\n",
              "      <script>\n",
              "        const buttonEl =\n",
              "          document.querySelector('#df-30e730f3-f087-4a47-a41c-d052ded918bd button.colab-df-convert');\n",
              "        buttonEl.style.display =\n",
              "          google.colab.kernel.accessAllowed ? 'block' : 'none';\n",
              "\n",
              "        async function convertToInteractive(key) {\n",
              "          const element = document.querySelector('#df-30e730f3-f087-4a47-a41c-d052ded918bd');\n",
              "          const dataTable =\n",
              "            await google.colab.kernel.invokeFunction('convertToInteractive',\n",
              "                                                     [key], {});\n",
              "          if (!dataTable) return;\n",
              "\n",
              "          const docLinkHtml = 'Like what you see? Visit the ' +\n",
              "            '<a target=\"_blank\" href=https://colab.research.google.com/notebooks/data_table.ipynb>data table notebook</a>'\n",
              "            + ' to learn more about interactive tables.';\n",
              "          element.innerHTML = '';\n",
              "          dataTable['output_type'] = 'display_data';\n",
              "          await google.colab.output.renderOutput(dataTable, element);\n",
              "          const docLink = document.createElement('div');\n",
              "          docLink.innerHTML = docLinkHtml;\n",
              "          element.appendChild(docLink);\n",
              "        }\n",
              "      </script>\n",
              "    </div>\n",
              "  </div>\n",
              "  "
            ]
          },
          "metadata": {},
          "execution_count": 50
        }
      ]
    },
    {
      "cell_type": "code",
      "source": [
        "# Salvando o ID do passageiro\n",
        "PassengerId_test = test['PassengerId']\n",
        "\n",
        "# Removendo atributos desnecessários\n",
        "test.drop(['PassengerId','Name', 'Ticket', 'Cabin'],axis = 1, inplace = True)\n",
        "test.head(5)"
      ],
      "metadata": {
        "colab": {
          "base_uri": "https://localhost:8080/",
          "height": 206
        },
        "id": "snwcQavr5Wky",
        "outputId": "7558bc1a-74a0-4eaf-97b9-5f4fffe4812f"
      },
      "execution_count": 51,
      "outputs": [
        {
          "output_type": "execute_result",
          "data": {
            "text/plain": [
              "   Pclass     Sex   Age  SibSp  Parch     Fare Embarked\n",
              "0       3    male  34.5      0      0   7.8292        Q\n",
              "1       3  female  47.0      1      0   7.0000        S\n",
              "2       2    male  62.0      0      0   9.6875        Q\n",
              "3       3    male  27.0      0      0   8.6625        S\n",
              "4       3  female  22.0      1      1  12.2875        S"
            ],
            "text/html": [
              "\n",
              "  <div id=\"df-3894198f-bfed-4319-acee-983aa8f96ceb\">\n",
              "    <div class=\"colab-df-container\">\n",
              "      <div>\n",
              "<style scoped>\n",
              "    .dataframe tbody tr th:only-of-type {\n",
              "        vertical-align: middle;\n",
              "    }\n",
              "\n",
              "    .dataframe tbody tr th {\n",
              "        vertical-align: top;\n",
              "    }\n",
              "\n",
              "    .dataframe thead th {\n",
              "        text-align: right;\n",
              "    }\n",
              "</style>\n",
              "<table border=\"1\" class=\"dataframe\">\n",
              "  <thead>\n",
              "    <tr style=\"text-align: right;\">\n",
              "      <th></th>\n",
              "      <th>Pclass</th>\n",
              "      <th>Sex</th>\n",
              "      <th>Age</th>\n",
              "      <th>SibSp</th>\n",
              "      <th>Parch</th>\n",
              "      <th>Fare</th>\n",
              "      <th>Embarked</th>\n",
              "    </tr>\n",
              "  </thead>\n",
              "  <tbody>\n",
              "    <tr>\n",
              "      <th>0</th>\n",
              "      <td>3</td>\n",
              "      <td>male</td>\n",
              "      <td>34.5</td>\n",
              "      <td>0</td>\n",
              "      <td>0</td>\n",
              "      <td>7.8292</td>\n",
              "      <td>Q</td>\n",
              "    </tr>\n",
              "    <tr>\n",
              "      <th>1</th>\n",
              "      <td>3</td>\n",
              "      <td>female</td>\n",
              "      <td>47.0</td>\n",
              "      <td>1</td>\n",
              "      <td>0</td>\n",
              "      <td>7.0000</td>\n",
              "      <td>S</td>\n",
              "    </tr>\n",
              "    <tr>\n",
              "      <th>2</th>\n",
              "      <td>2</td>\n",
              "      <td>male</td>\n",
              "      <td>62.0</td>\n",
              "      <td>0</td>\n",
              "      <td>0</td>\n",
              "      <td>9.6875</td>\n",
              "      <td>Q</td>\n",
              "    </tr>\n",
              "    <tr>\n",
              "      <th>3</th>\n",
              "      <td>3</td>\n",
              "      <td>male</td>\n",
              "      <td>27.0</td>\n",
              "      <td>0</td>\n",
              "      <td>0</td>\n",
              "      <td>8.6625</td>\n",
              "      <td>S</td>\n",
              "    </tr>\n",
              "    <tr>\n",
              "      <th>4</th>\n",
              "      <td>3</td>\n",
              "      <td>female</td>\n",
              "      <td>22.0</td>\n",
              "      <td>1</td>\n",
              "      <td>1</td>\n",
              "      <td>12.2875</td>\n",
              "      <td>S</td>\n",
              "    </tr>\n",
              "  </tbody>\n",
              "</table>\n",
              "</div>\n",
              "      <button class=\"colab-df-convert\" onclick=\"convertToInteractive('df-3894198f-bfed-4319-acee-983aa8f96ceb')\"\n",
              "              title=\"Convert this dataframe to an interactive table.\"\n",
              "              style=\"display:none;\">\n",
              "        \n",
              "  <svg xmlns=\"http://www.w3.org/2000/svg\" height=\"24px\"viewBox=\"0 0 24 24\"\n",
              "       width=\"24px\">\n",
              "    <path d=\"M0 0h24v24H0V0z\" fill=\"none\"/>\n",
              "    <path d=\"M18.56 5.44l.94 2.06.94-2.06 2.06-.94-2.06-.94-.94-2.06-.94 2.06-2.06.94zm-11 1L8.5 8.5l.94-2.06 2.06-.94-2.06-.94L8.5 2.5l-.94 2.06-2.06.94zm10 10l.94 2.06.94-2.06 2.06-.94-2.06-.94-.94-2.06-.94 2.06-2.06.94z\"/><path d=\"M17.41 7.96l-1.37-1.37c-.4-.4-.92-.59-1.43-.59-.52 0-1.04.2-1.43.59L10.3 9.45l-7.72 7.72c-.78.78-.78 2.05 0 2.83L4 21.41c.39.39.9.59 1.41.59.51 0 1.02-.2 1.41-.59l7.78-7.78 2.81-2.81c.8-.78.8-2.07 0-2.86zM5.41 20L4 18.59l7.72-7.72 1.47 1.35L5.41 20z\"/>\n",
              "  </svg>\n",
              "      </button>\n",
              "      \n",
              "  <style>\n",
              "    .colab-df-container {\n",
              "      display:flex;\n",
              "      flex-wrap:wrap;\n",
              "      gap: 12px;\n",
              "    }\n",
              "\n",
              "    .colab-df-convert {\n",
              "      background-color: #E8F0FE;\n",
              "      border: none;\n",
              "      border-radius: 50%;\n",
              "      cursor: pointer;\n",
              "      display: none;\n",
              "      fill: #1967D2;\n",
              "      height: 32px;\n",
              "      padding: 0 0 0 0;\n",
              "      width: 32px;\n",
              "    }\n",
              "\n",
              "    .colab-df-convert:hover {\n",
              "      background-color: #E2EBFA;\n",
              "      box-shadow: 0px 1px 2px rgba(60, 64, 67, 0.3), 0px 1px 3px 1px rgba(60, 64, 67, 0.15);\n",
              "      fill: #174EA6;\n",
              "    }\n",
              "\n",
              "    [theme=dark] .colab-df-convert {\n",
              "      background-color: #3B4455;\n",
              "      fill: #D2E3FC;\n",
              "    }\n",
              "\n",
              "    [theme=dark] .colab-df-convert:hover {\n",
              "      background-color: #434B5C;\n",
              "      box-shadow: 0px 1px 3px 1px rgba(0, 0, 0, 0.15);\n",
              "      filter: drop-shadow(0px 1px 2px rgba(0, 0, 0, 0.3));\n",
              "      fill: #FFFFFF;\n",
              "    }\n",
              "  </style>\n",
              "\n",
              "      <script>\n",
              "        const buttonEl =\n",
              "          document.querySelector('#df-3894198f-bfed-4319-acee-983aa8f96ceb button.colab-df-convert');\n",
              "        buttonEl.style.display =\n",
              "          google.colab.kernel.accessAllowed ? 'block' : 'none';\n",
              "\n",
              "        async function convertToInteractive(key) {\n",
              "          const element = document.querySelector('#df-3894198f-bfed-4319-acee-983aa8f96ceb');\n",
              "          const dataTable =\n",
              "            await google.colab.kernel.invokeFunction('convertToInteractive',\n",
              "                                                     [key], {});\n",
              "          if (!dataTable) return;\n",
              "\n",
              "          const docLinkHtml = 'Like what you see? Visit the ' +\n",
              "            '<a target=\"_blank\" href=https://colab.research.google.com/notebooks/data_table.ipynb>data table notebook</a>'\n",
              "            + ' to learn more about interactive tables.';\n",
              "          element.innerHTML = '';\n",
              "          dataTable['output_type'] = 'display_data';\n",
              "          await google.colab.output.renderOutput(dataTable, element);\n",
              "          const docLink = document.createElement('div');\n",
              "          docLink.innerHTML = docLinkHtml;\n",
              "          element.appendChild(docLink);\n",
              "        }\n",
              "      </script>\n",
              "    </div>\n",
              "  </div>\n",
              "  "
            ]
          },
          "metadata": {},
          "execution_count": 51
        }
      ]
    },
    {
      "cell_type": "code",
      "source": [
        "test.info()"
      ],
      "metadata": {
        "colab": {
          "base_uri": "https://localhost:8080/"
        },
        "id": "Fs5e0vwZ3Q3p",
        "outputId": "c29932ec-184e-42e0-da44-aaab285bb5bb"
      },
      "execution_count": 52,
      "outputs": [
        {
          "output_type": "stream",
          "name": "stdout",
          "text": [
            "<class 'pandas.core.frame.DataFrame'>\n",
            "RangeIndex: 418 entries, 0 to 417\n",
            "Data columns (total 7 columns):\n",
            " #   Column    Non-Null Count  Dtype  \n",
            "---  ------    --------------  -----  \n",
            " 0   Pclass    418 non-null    int64  \n",
            " 1   Sex       418 non-null    object \n",
            " 2   Age       332 non-null    float64\n",
            " 3   SibSp     418 non-null    int64  \n",
            " 4   Parch     418 non-null    int64  \n",
            " 5   Fare      417 non-null    float64\n",
            " 6   Embarked  418 non-null    object \n",
            "dtypes: float64(2), int64(3), object(2)\n",
            "memory usage: 23.0+ KB\n"
          ]
        }
      ]
    },
    {
      "cell_type": "code",
      "source": [
        "# Valores nulos\n",
        "test.isnull().sum()"
      ],
      "metadata": {
        "colab": {
          "base_uri": "https://localhost:8080/"
        },
        "id": "Jqy0Ai_h5BSt",
        "outputId": "3fbb63c5-8dd0-48b4-8e88-6e607a6a4cc2"
      },
      "execution_count": 53,
      "outputs": [
        {
          "output_type": "execute_result",
          "data": {
            "text/plain": [
              "Pclass       0\n",
              "Sex          0\n",
              "Age         86\n",
              "SibSp        0\n",
              "Parch        0\n",
              "Fare         1\n",
              "Embarked     0\n",
              "dtype: int64"
            ]
          },
          "metadata": {},
          "execution_count": 53
        }
      ]
    },
    {
      "cell_type": "code",
      "source": [
        "test.describe()"
      ],
      "metadata": {
        "colab": {
          "base_uri": "https://localhost:8080/",
          "height": 300
        },
        "id": "DAnLn4sC5HNt",
        "outputId": "44c097e2-e40e-49ec-9085-8b2200b97795"
      },
      "execution_count": 54,
      "outputs": [
        {
          "output_type": "execute_result",
          "data": {
            "text/plain": [
              "           Pclass         Age       SibSp       Parch        Fare\n",
              "count  418.000000  332.000000  418.000000  418.000000  417.000000\n",
              "mean     2.265550   30.272590    0.447368    0.392344   35.627188\n",
              "std      0.841838   14.181209    0.896760    0.981429   55.907576\n",
              "min      1.000000    0.170000    0.000000    0.000000    0.000000\n",
              "25%      1.000000   21.000000    0.000000    0.000000    7.895800\n",
              "50%      3.000000   27.000000    0.000000    0.000000   14.454200\n",
              "75%      3.000000   39.000000    1.000000    0.000000   31.500000\n",
              "max      3.000000   76.000000    8.000000    9.000000  512.329200"
            ],
            "text/html": [
              "\n",
              "  <div id=\"df-51bf9371-626e-42b6-b370-6fcecdcc357e\">\n",
              "    <div class=\"colab-df-container\">\n",
              "      <div>\n",
              "<style scoped>\n",
              "    .dataframe tbody tr th:only-of-type {\n",
              "        vertical-align: middle;\n",
              "    }\n",
              "\n",
              "    .dataframe tbody tr th {\n",
              "        vertical-align: top;\n",
              "    }\n",
              "\n",
              "    .dataframe thead th {\n",
              "        text-align: right;\n",
              "    }\n",
              "</style>\n",
              "<table border=\"1\" class=\"dataframe\">\n",
              "  <thead>\n",
              "    <tr style=\"text-align: right;\">\n",
              "      <th></th>\n",
              "      <th>Pclass</th>\n",
              "      <th>Age</th>\n",
              "      <th>SibSp</th>\n",
              "      <th>Parch</th>\n",
              "      <th>Fare</th>\n",
              "    </tr>\n",
              "  </thead>\n",
              "  <tbody>\n",
              "    <tr>\n",
              "      <th>count</th>\n",
              "      <td>418.000000</td>\n",
              "      <td>332.000000</td>\n",
              "      <td>418.000000</td>\n",
              "      <td>418.000000</td>\n",
              "      <td>417.000000</td>\n",
              "    </tr>\n",
              "    <tr>\n",
              "      <th>mean</th>\n",
              "      <td>2.265550</td>\n",
              "      <td>30.272590</td>\n",
              "      <td>0.447368</td>\n",
              "      <td>0.392344</td>\n",
              "      <td>35.627188</td>\n",
              "    </tr>\n",
              "    <tr>\n",
              "      <th>std</th>\n",
              "      <td>0.841838</td>\n",
              "      <td>14.181209</td>\n",
              "      <td>0.896760</td>\n",
              "      <td>0.981429</td>\n",
              "      <td>55.907576</td>\n",
              "    </tr>\n",
              "    <tr>\n",
              "      <th>min</th>\n",
              "      <td>1.000000</td>\n",
              "      <td>0.170000</td>\n",
              "      <td>0.000000</td>\n",
              "      <td>0.000000</td>\n",
              "      <td>0.000000</td>\n",
              "    </tr>\n",
              "    <tr>\n",
              "      <th>25%</th>\n",
              "      <td>1.000000</td>\n",
              "      <td>21.000000</td>\n",
              "      <td>0.000000</td>\n",
              "      <td>0.000000</td>\n",
              "      <td>7.895800</td>\n",
              "    </tr>\n",
              "    <tr>\n",
              "      <th>50%</th>\n",
              "      <td>3.000000</td>\n",
              "      <td>27.000000</td>\n",
              "      <td>0.000000</td>\n",
              "      <td>0.000000</td>\n",
              "      <td>14.454200</td>\n",
              "    </tr>\n",
              "    <tr>\n",
              "      <th>75%</th>\n",
              "      <td>3.000000</td>\n",
              "      <td>39.000000</td>\n",
              "      <td>1.000000</td>\n",
              "      <td>0.000000</td>\n",
              "      <td>31.500000</td>\n",
              "    </tr>\n",
              "    <tr>\n",
              "      <th>max</th>\n",
              "      <td>3.000000</td>\n",
              "      <td>76.000000</td>\n",
              "      <td>8.000000</td>\n",
              "      <td>9.000000</td>\n",
              "      <td>512.329200</td>\n",
              "    </tr>\n",
              "  </tbody>\n",
              "</table>\n",
              "</div>\n",
              "      <button class=\"colab-df-convert\" onclick=\"convertToInteractive('df-51bf9371-626e-42b6-b370-6fcecdcc357e')\"\n",
              "              title=\"Convert this dataframe to an interactive table.\"\n",
              "              style=\"display:none;\">\n",
              "        \n",
              "  <svg xmlns=\"http://www.w3.org/2000/svg\" height=\"24px\"viewBox=\"0 0 24 24\"\n",
              "       width=\"24px\">\n",
              "    <path d=\"M0 0h24v24H0V0z\" fill=\"none\"/>\n",
              "    <path d=\"M18.56 5.44l.94 2.06.94-2.06 2.06-.94-2.06-.94-.94-2.06-.94 2.06-2.06.94zm-11 1L8.5 8.5l.94-2.06 2.06-.94-2.06-.94L8.5 2.5l-.94 2.06-2.06.94zm10 10l.94 2.06.94-2.06 2.06-.94-2.06-.94-.94-2.06-.94 2.06-2.06.94z\"/><path d=\"M17.41 7.96l-1.37-1.37c-.4-.4-.92-.59-1.43-.59-.52 0-1.04.2-1.43.59L10.3 9.45l-7.72 7.72c-.78.78-.78 2.05 0 2.83L4 21.41c.39.39.9.59 1.41.59.51 0 1.02-.2 1.41-.59l7.78-7.78 2.81-2.81c.8-.78.8-2.07 0-2.86zM5.41 20L4 18.59l7.72-7.72 1.47 1.35L5.41 20z\"/>\n",
              "  </svg>\n",
              "      </button>\n",
              "      \n",
              "  <style>\n",
              "    .colab-df-container {\n",
              "      display:flex;\n",
              "      flex-wrap:wrap;\n",
              "      gap: 12px;\n",
              "    }\n",
              "\n",
              "    .colab-df-convert {\n",
              "      background-color: #E8F0FE;\n",
              "      border: none;\n",
              "      border-radius: 50%;\n",
              "      cursor: pointer;\n",
              "      display: none;\n",
              "      fill: #1967D2;\n",
              "      height: 32px;\n",
              "      padding: 0 0 0 0;\n",
              "      width: 32px;\n",
              "    }\n",
              "\n",
              "    .colab-df-convert:hover {\n",
              "      background-color: #E2EBFA;\n",
              "      box-shadow: 0px 1px 2px rgba(60, 64, 67, 0.3), 0px 1px 3px 1px rgba(60, 64, 67, 0.15);\n",
              "      fill: #174EA6;\n",
              "    }\n",
              "\n",
              "    [theme=dark] .colab-df-convert {\n",
              "      background-color: #3B4455;\n",
              "      fill: #D2E3FC;\n",
              "    }\n",
              "\n",
              "    [theme=dark] .colab-df-convert:hover {\n",
              "      background-color: #434B5C;\n",
              "      box-shadow: 0px 1px 3px 1px rgba(0, 0, 0, 0.15);\n",
              "      filter: drop-shadow(0px 1px 2px rgba(0, 0, 0, 0.3));\n",
              "      fill: #FFFFFF;\n",
              "    }\n",
              "  </style>\n",
              "\n",
              "      <script>\n",
              "        const buttonEl =\n",
              "          document.querySelector('#df-51bf9371-626e-42b6-b370-6fcecdcc357e button.colab-df-convert');\n",
              "        buttonEl.style.display =\n",
              "          google.colab.kernel.accessAllowed ? 'block' : 'none';\n",
              "\n",
              "        async function convertToInteractive(key) {\n",
              "          const element = document.querySelector('#df-51bf9371-626e-42b6-b370-6fcecdcc357e');\n",
              "          const dataTable =\n",
              "            await google.colab.kernel.invokeFunction('convertToInteractive',\n",
              "                                                     [key], {});\n",
              "          if (!dataTable) return;\n",
              "\n",
              "          const docLinkHtml = 'Like what you see? Visit the ' +\n",
              "            '<a target=\"_blank\" href=https://colab.research.google.com/notebooks/data_table.ipynb>data table notebook</a>'\n",
              "            + ' to learn more about interactive tables.';\n",
              "          element.innerHTML = '';\n",
              "          dataTable['output_type'] = 'display_data';\n",
              "          await google.colab.output.renderOutput(dataTable, element);\n",
              "          const docLink = document.createElement('div');\n",
              "          docLink.innerHTML = docLinkHtml;\n",
              "          element.appendChild(docLink);\n",
              "        }\n",
              "      </script>\n",
              "    </div>\n",
              "  </div>\n",
              "  "
            ]
          },
          "metadata": {},
          "execution_count": 54
        }
      ]
    },
    {
      "cell_type": "markdown",
      "source": [
        "Identificamos 177 valores nulos no atributo \"Age\" e 2 no \"Embarked\" do conjunto de treino. No conjunto de teste, 86 no atributo \"Age\" e 1 no \"Fare\"."
      ],
      "metadata": {
        "id": "ftA4czDC7Vph"
      }
    },
    {
      "cell_type": "markdown",
      "source": [
        "Vamos atribuir valores médios às entradas nulas nos dados numéricos e a moda nos atributos nominais."
      ],
      "metadata": {
        "id": "dF3Ro0pRE51e"
      }
    },
    {
      "cell_type": "code",
      "source": [
        "train['Age'] = train['Age'].fillna(train['Age'].mean())\n",
        "train['Embarked'] = train['Embarked'].fillna(train['Embarked'].mode()[0])\n",
        "train['Fare'] = train['Fare'].fillna(train['Fare'].mean())\n",
        "\n",
        "test['Age'] = test['Age'].fillna(test['Age'].mean())\n",
        "test['Embarked'] = test['Embarked'].fillna(test['Embarked'].mode()[0])\n",
        "test['Fare'] = test['Fare'].fillna(test['Fare'].mean())"
      ],
      "metadata": {
        "id": "E5fDIwQa8cc0"
      },
      "execution_count": 55,
      "outputs": []
    },
    {
      "cell_type": "code",
      "source": [
        "# sem valores nulos no conjunto de treinamento\n",
        "train.isnull().sum().sort_values(ascending=False).head(10)"
      ],
      "metadata": {
        "colab": {
          "base_uri": "https://localhost:8080/"
        },
        "id": "vbQbAJUdFH9n",
        "outputId": "ca910172-ce02-4705-c6be-4c0d13c50afc"
      },
      "execution_count": 56,
      "outputs": [
        {
          "output_type": "execute_result",
          "data": {
            "text/plain": [
              "Survived    0\n",
              "Pclass      0\n",
              "Sex         0\n",
              "Age         0\n",
              "SibSp       0\n",
              "Parch       0\n",
              "Fare        0\n",
              "Embarked    0\n",
              "dtype: int64"
            ]
          },
          "metadata": {},
          "execution_count": 56
        }
      ]
    },
    {
      "cell_type": "code",
      "source": [
        "# sem valores nulos no conjunto de teste\n",
        "test.isnull().sum().sort_values(ascending=False).head(10)"
      ],
      "metadata": {
        "colab": {
          "base_uri": "https://localhost:8080/"
        },
        "id": "OMLXDGuBFNG7",
        "outputId": "764521fa-0ba2-4ad9-e99e-3124e353e871"
      },
      "execution_count": 57,
      "outputs": [
        {
          "output_type": "execute_result",
          "data": {
            "text/plain": [
              "Pclass      0\n",
              "Sex         0\n",
              "Age         0\n",
              "SibSp       0\n",
              "Parch       0\n",
              "Fare        0\n",
              "Embarked    0\n",
              "dtype: int64"
            ]
          },
          "metadata": {},
          "execution_count": 57
        }
      ]
    },
    {
      "cell_type": "code",
      "source": [
        "# transformando atributos nominais em numéricos usando \"one-hot-enconding\"\n",
        "train_original = train\n",
        "train = pd.get_dummies(train)\n",
        "train.head(10)"
      ],
      "metadata": {
        "colab": {
          "base_uri": "https://localhost:8080/",
          "height": 363
        },
        "id": "zcG1IyxvnGeC",
        "outputId": "0190665e-280e-4917-d938-578ffc3e4a06"
      },
      "execution_count": 58,
      "outputs": [
        {
          "output_type": "execute_result",
          "data": {
            "text/plain": [
              "   Survived  Pclass        Age  SibSp  Parch     Fare  Sex_female  Sex_male  \\\n",
              "0         0       3  22.000000      1      0   7.2500           0         1   \n",
              "1         1       1  38.000000      1      0  71.2833           1         0   \n",
              "2         1       3  26.000000      0      0   7.9250           1         0   \n",
              "3         1       1  35.000000      1      0  53.1000           1         0   \n",
              "4         0       3  35.000000      0      0   8.0500           0         1   \n",
              "5         0       3  29.699118      0      0   8.4583           0         1   \n",
              "6         0       1  54.000000      0      0  51.8625           0         1   \n",
              "7         0       3   2.000000      3      1  21.0750           0         1   \n",
              "8         1       3  27.000000      0      2  11.1333           1         0   \n",
              "9         1       2  14.000000      1      0  30.0708           1         0   \n",
              "\n",
              "   Embarked_C  Embarked_Q  Embarked_S  \n",
              "0           0           0           1  \n",
              "1           1           0           0  \n",
              "2           0           0           1  \n",
              "3           0           0           1  \n",
              "4           0           0           1  \n",
              "5           0           1           0  \n",
              "6           0           0           1  \n",
              "7           0           0           1  \n",
              "8           0           0           1  \n",
              "9           1           0           0  "
            ],
            "text/html": [
              "\n",
              "  <div id=\"df-5035a77e-29e7-4aa3-86b0-a08eadb3f6d8\">\n",
              "    <div class=\"colab-df-container\">\n",
              "      <div>\n",
              "<style scoped>\n",
              "    .dataframe tbody tr th:only-of-type {\n",
              "        vertical-align: middle;\n",
              "    }\n",
              "\n",
              "    .dataframe tbody tr th {\n",
              "        vertical-align: top;\n",
              "    }\n",
              "\n",
              "    .dataframe thead th {\n",
              "        text-align: right;\n",
              "    }\n",
              "</style>\n",
              "<table border=\"1\" class=\"dataframe\">\n",
              "  <thead>\n",
              "    <tr style=\"text-align: right;\">\n",
              "      <th></th>\n",
              "      <th>Survived</th>\n",
              "      <th>Pclass</th>\n",
              "      <th>Age</th>\n",
              "      <th>SibSp</th>\n",
              "      <th>Parch</th>\n",
              "      <th>Fare</th>\n",
              "      <th>Sex_female</th>\n",
              "      <th>Sex_male</th>\n",
              "      <th>Embarked_C</th>\n",
              "      <th>Embarked_Q</th>\n",
              "      <th>Embarked_S</th>\n",
              "    </tr>\n",
              "  </thead>\n",
              "  <tbody>\n",
              "    <tr>\n",
              "      <th>0</th>\n",
              "      <td>0</td>\n",
              "      <td>3</td>\n",
              "      <td>22.000000</td>\n",
              "      <td>1</td>\n",
              "      <td>0</td>\n",
              "      <td>7.2500</td>\n",
              "      <td>0</td>\n",
              "      <td>1</td>\n",
              "      <td>0</td>\n",
              "      <td>0</td>\n",
              "      <td>1</td>\n",
              "    </tr>\n",
              "    <tr>\n",
              "      <th>1</th>\n",
              "      <td>1</td>\n",
              "      <td>1</td>\n",
              "      <td>38.000000</td>\n",
              "      <td>1</td>\n",
              "      <td>0</td>\n",
              "      <td>71.2833</td>\n",
              "      <td>1</td>\n",
              "      <td>0</td>\n",
              "      <td>1</td>\n",
              "      <td>0</td>\n",
              "      <td>0</td>\n",
              "    </tr>\n",
              "    <tr>\n",
              "      <th>2</th>\n",
              "      <td>1</td>\n",
              "      <td>3</td>\n",
              "      <td>26.000000</td>\n",
              "      <td>0</td>\n",
              "      <td>0</td>\n",
              "      <td>7.9250</td>\n",
              "      <td>1</td>\n",
              "      <td>0</td>\n",
              "      <td>0</td>\n",
              "      <td>0</td>\n",
              "      <td>1</td>\n",
              "    </tr>\n",
              "    <tr>\n",
              "      <th>3</th>\n",
              "      <td>1</td>\n",
              "      <td>1</td>\n",
              "      <td>35.000000</td>\n",
              "      <td>1</td>\n",
              "      <td>0</td>\n",
              "      <td>53.1000</td>\n",
              "      <td>1</td>\n",
              "      <td>0</td>\n",
              "      <td>0</td>\n",
              "      <td>0</td>\n",
              "      <td>1</td>\n",
              "    </tr>\n",
              "    <tr>\n",
              "      <th>4</th>\n",
              "      <td>0</td>\n",
              "      <td>3</td>\n",
              "      <td>35.000000</td>\n",
              "      <td>0</td>\n",
              "      <td>0</td>\n",
              "      <td>8.0500</td>\n",
              "      <td>0</td>\n",
              "      <td>1</td>\n",
              "      <td>0</td>\n",
              "      <td>0</td>\n",
              "      <td>1</td>\n",
              "    </tr>\n",
              "    <tr>\n",
              "      <th>5</th>\n",
              "      <td>0</td>\n",
              "      <td>3</td>\n",
              "      <td>29.699118</td>\n",
              "      <td>0</td>\n",
              "      <td>0</td>\n",
              "      <td>8.4583</td>\n",
              "      <td>0</td>\n",
              "      <td>1</td>\n",
              "      <td>0</td>\n",
              "      <td>1</td>\n",
              "      <td>0</td>\n",
              "    </tr>\n",
              "    <tr>\n",
              "      <th>6</th>\n",
              "      <td>0</td>\n",
              "      <td>1</td>\n",
              "      <td>54.000000</td>\n",
              "      <td>0</td>\n",
              "      <td>0</td>\n",
              "      <td>51.8625</td>\n",
              "      <td>0</td>\n",
              "      <td>1</td>\n",
              "      <td>0</td>\n",
              "      <td>0</td>\n",
              "      <td>1</td>\n",
              "    </tr>\n",
              "    <tr>\n",
              "      <th>7</th>\n",
              "      <td>0</td>\n",
              "      <td>3</td>\n",
              "      <td>2.000000</td>\n",
              "      <td>3</td>\n",
              "      <td>1</td>\n",
              "      <td>21.0750</td>\n",
              "      <td>0</td>\n",
              "      <td>1</td>\n",
              "      <td>0</td>\n",
              "      <td>0</td>\n",
              "      <td>1</td>\n",
              "    </tr>\n",
              "    <tr>\n",
              "      <th>8</th>\n",
              "      <td>1</td>\n",
              "      <td>3</td>\n",
              "      <td>27.000000</td>\n",
              "      <td>0</td>\n",
              "      <td>2</td>\n",
              "      <td>11.1333</td>\n",
              "      <td>1</td>\n",
              "      <td>0</td>\n",
              "      <td>0</td>\n",
              "      <td>0</td>\n",
              "      <td>1</td>\n",
              "    </tr>\n",
              "    <tr>\n",
              "      <th>9</th>\n",
              "      <td>1</td>\n",
              "      <td>2</td>\n",
              "      <td>14.000000</td>\n",
              "      <td>1</td>\n",
              "      <td>0</td>\n",
              "      <td>30.0708</td>\n",
              "      <td>1</td>\n",
              "      <td>0</td>\n",
              "      <td>1</td>\n",
              "      <td>0</td>\n",
              "      <td>0</td>\n",
              "    </tr>\n",
              "  </tbody>\n",
              "</table>\n",
              "</div>\n",
              "      <button class=\"colab-df-convert\" onclick=\"convertToInteractive('df-5035a77e-29e7-4aa3-86b0-a08eadb3f6d8')\"\n",
              "              title=\"Convert this dataframe to an interactive table.\"\n",
              "              style=\"display:none;\">\n",
              "        \n",
              "  <svg xmlns=\"http://www.w3.org/2000/svg\" height=\"24px\"viewBox=\"0 0 24 24\"\n",
              "       width=\"24px\">\n",
              "    <path d=\"M0 0h24v24H0V0z\" fill=\"none\"/>\n",
              "    <path d=\"M18.56 5.44l.94 2.06.94-2.06 2.06-.94-2.06-.94-.94-2.06-.94 2.06-2.06.94zm-11 1L8.5 8.5l.94-2.06 2.06-.94-2.06-.94L8.5 2.5l-.94 2.06-2.06.94zm10 10l.94 2.06.94-2.06 2.06-.94-2.06-.94-.94-2.06-.94 2.06-2.06.94z\"/><path d=\"M17.41 7.96l-1.37-1.37c-.4-.4-.92-.59-1.43-.59-.52 0-1.04.2-1.43.59L10.3 9.45l-7.72 7.72c-.78.78-.78 2.05 0 2.83L4 21.41c.39.39.9.59 1.41.59.51 0 1.02-.2 1.41-.59l7.78-7.78 2.81-2.81c.8-.78.8-2.07 0-2.86zM5.41 20L4 18.59l7.72-7.72 1.47 1.35L5.41 20z\"/>\n",
              "  </svg>\n",
              "      </button>\n",
              "      \n",
              "  <style>\n",
              "    .colab-df-container {\n",
              "      display:flex;\n",
              "      flex-wrap:wrap;\n",
              "      gap: 12px;\n",
              "    }\n",
              "\n",
              "    .colab-df-convert {\n",
              "      background-color: #E8F0FE;\n",
              "      border: none;\n",
              "      border-radius: 50%;\n",
              "      cursor: pointer;\n",
              "      display: none;\n",
              "      fill: #1967D2;\n",
              "      height: 32px;\n",
              "      padding: 0 0 0 0;\n",
              "      width: 32px;\n",
              "    }\n",
              "\n",
              "    .colab-df-convert:hover {\n",
              "      background-color: #E2EBFA;\n",
              "      box-shadow: 0px 1px 2px rgba(60, 64, 67, 0.3), 0px 1px 3px 1px rgba(60, 64, 67, 0.15);\n",
              "      fill: #174EA6;\n",
              "    }\n",
              "\n",
              "    [theme=dark] .colab-df-convert {\n",
              "      background-color: #3B4455;\n",
              "      fill: #D2E3FC;\n",
              "    }\n",
              "\n",
              "    [theme=dark] .colab-df-convert:hover {\n",
              "      background-color: #434B5C;\n",
              "      box-shadow: 0px 1px 3px 1px rgba(0, 0, 0, 0.15);\n",
              "      filter: drop-shadow(0px 1px 2px rgba(0, 0, 0, 0.3));\n",
              "      fill: #FFFFFF;\n",
              "    }\n",
              "  </style>\n",
              "\n",
              "      <script>\n",
              "        const buttonEl =\n",
              "          document.querySelector('#df-5035a77e-29e7-4aa3-86b0-a08eadb3f6d8 button.colab-df-convert');\n",
              "        buttonEl.style.display =\n",
              "          google.colab.kernel.accessAllowed ? 'block' : 'none';\n",
              "\n",
              "        async function convertToInteractive(key) {\n",
              "          const element = document.querySelector('#df-5035a77e-29e7-4aa3-86b0-a08eadb3f6d8');\n",
              "          const dataTable =\n",
              "            await google.colab.kernel.invokeFunction('convertToInteractive',\n",
              "                                                     [key], {});\n",
              "          if (!dataTable) return;\n",
              "\n",
              "          const docLinkHtml = 'Like what you see? Visit the ' +\n",
              "            '<a target=\"_blank\" href=https://colab.research.google.com/notebooks/data_table.ipynb>data table notebook</a>'\n",
              "            + ' to learn more about interactive tables.';\n",
              "          element.innerHTML = '';\n",
              "          dataTable['output_type'] = 'display_data';\n",
              "          await google.colab.output.renderOutput(dataTable, element);\n",
              "          const docLink = document.createElement('div');\n",
              "          docLink.innerHTML = docLinkHtml;\n",
              "          element.appendChild(docLink);\n",
              "        }\n",
              "      </script>\n",
              "    </div>\n",
              "  </div>\n",
              "  "
            ]
          },
          "metadata": {},
          "execution_count": 58
        }
      ]
    },
    {
      "cell_type": "code",
      "source": [
        "test = pd.get_dummies(test)\n",
        "test.head(6)"
      ],
      "metadata": {
        "colab": {
          "base_uri": "https://localhost:8080/",
          "height": 237
        },
        "id": "UWGZC3_rndTV",
        "outputId": "6ead5e4a-2492-462f-e133-9bb813e39eef"
      },
      "execution_count": 59,
      "outputs": [
        {
          "output_type": "execute_result",
          "data": {
            "text/plain": [
              "   Pclass   Age  SibSp  Parch     Fare  Sex_female  Sex_male  Embarked_C  \\\n",
              "0       3  34.5      0      0   7.8292           0         1           0   \n",
              "1       3  47.0      1      0   7.0000           1         0           0   \n",
              "2       2  62.0      0      0   9.6875           0         1           0   \n",
              "3       3  27.0      0      0   8.6625           0         1           0   \n",
              "4       3  22.0      1      1  12.2875           1         0           0   \n",
              "5       3  14.0      0      0   9.2250           0         1           0   \n",
              "\n",
              "   Embarked_Q  Embarked_S  \n",
              "0           1           0  \n",
              "1           0           1  \n",
              "2           1           0  \n",
              "3           0           1  \n",
              "4           0           1  \n",
              "5           0           1  "
            ],
            "text/html": [
              "\n",
              "  <div id=\"df-504bd814-22c5-4b3d-b642-494c7eec5c63\">\n",
              "    <div class=\"colab-df-container\">\n",
              "      <div>\n",
              "<style scoped>\n",
              "    .dataframe tbody tr th:only-of-type {\n",
              "        vertical-align: middle;\n",
              "    }\n",
              "\n",
              "    .dataframe tbody tr th {\n",
              "        vertical-align: top;\n",
              "    }\n",
              "\n",
              "    .dataframe thead th {\n",
              "        text-align: right;\n",
              "    }\n",
              "</style>\n",
              "<table border=\"1\" class=\"dataframe\">\n",
              "  <thead>\n",
              "    <tr style=\"text-align: right;\">\n",
              "      <th></th>\n",
              "      <th>Pclass</th>\n",
              "      <th>Age</th>\n",
              "      <th>SibSp</th>\n",
              "      <th>Parch</th>\n",
              "      <th>Fare</th>\n",
              "      <th>Sex_female</th>\n",
              "      <th>Sex_male</th>\n",
              "      <th>Embarked_C</th>\n",
              "      <th>Embarked_Q</th>\n",
              "      <th>Embarked_S</th>\n",
              "    </tr>\n",
              "  </thead>\n",
              "  <tbody>\n",
              "    <tr>\n",
              "      <th>0</th>\n",
              "      <td>3</td>\n",
              "      <td>34.5</td>\n",
              "      <td>0</td>\n",
              "      <td>0</td>\n",
              "      <td>7.8292</td>\n",
              "      <td>0</td>\n",
              "      <td>1</td>\n",
              "      <td>0</td>\n",
              "      <td>1</td>\n",
              "      <td>0</td>\n",
              "    </tr>\n",
              "    <tr>\n",
              "      <th>1</th>\n",
              "      <td>3</td>\n",
              "      <td>47.0</td>\n",
              "      <td>1</td>\n",
              "      <td>0</td>\n",
              "      <td>7.0000</td>\n",
              "      <td>1</td>\n",
              "      <td>0</td>\n",
              "      <td>0</td>\n",
              "      <td>0</td>\n",
              "      <td>1</td>\n",
              "    </tr>\n",
              "    <tr>\n",
              "      <th>2</th>\n",
              "      <td>2</td>\n",
              "      <td>62.0</td>\n",
              "      <td>0</td>\n",
              "      <td>0</td>\n",
              "      <td>9.6875</td>\n",
              "      <td>0</td>\n",
              "      <td>1</td>\n",
              "      <td>0</td>\n",
              "      <td>1</td>\n",
              "      <td>0</td>\n",
              "    </tr>\n",
              "    <tr>\n",
              "      <th>3</th>\n",
              "      <td>3</td>\n",
              "      <td>27.0</td>\n",
              "      <td>0</td>\n",
              "      <td>0</td>\n",
              "      <td>8.6625</td>\n",
              "      <td>0</td>\n",
              "      <td>1</td>\n",
              "      <td>0</td>\n",
              "      <td>0</td>\n",
              "      <td>1</td>\n",
              "    </tr>\n",
              "    <tr>\n",
              "      <th>4</th>\n",
              "      <td>3</td>\n",
              "      <td>22.0</td>\n",
              "      <td>1</td>\n",
              "      <td>1</td>\n",
              "      <td>12.2875</td>\n",
              "      <td>1</td>\n",
              "      <td>0</td>\n",
              "      <td>0</td>\n",
              "      <td>0</td>\n",
              "      <td>1</td>\n",
              "    </tr>\n",
              "    <tr>\n",
              "      <th>5</th>\n",
              "      <td>3</td>\n",
              "      <td>14.0</td>\n",
              "      <td>0</td>\n",
              "      <td>0</td>\n",
              "      <td>9.2250</td>\n",
              "      <td>0</td>\n",
              "      <td>1</td>\n",
              "      <td>0</td>\n",
              "      <td>0</td>\n",
              "      <td>1</td>\n",
              "    </tr>\n",
              "  </tbody>\n",
              "</table>\n",
              "</div>\n",
              "      <button class=\"colab-df-convert\" onclick=\"convertToInteractive('df-504bd814-22c5-4b3d-b642-494c7eec5c63')\"\n",
              "              title=\"Convert this dataframe to an interactive table.\"\n",
              "              style=\"display:none;\">\n",
              "        \n",
              "  <svg xmlns=\"http://www.w3.org/2000/svg\" height=\"24px\"viewBox=\"0 0 24 24\"\n",
              "       width=\"24px\">\n",
              "    <path d=\"M0 0h24v24H0V0z\" fill=\"none\"/>\n",
              "    <path d=\"M18.56 5.44l.94 2.06.94-2.06 2.06-.94-2.06-.94-.94-2.06-.94 2.06-2.06.94zm-11 1L8.5 8.5l.94-2.06 2.06-.94-2.06-.94L8.5 2.5l-.94 2.06-2.06.94zm10 10l.94 2.06.94-2.06 2.06-.94-2.06-.94-.94-2.06-.94 2.06-2.06.94z\"/><path d=\"M17.41 7.96l-1.37-1.37c-.4-.4-.92-.59-1.43-.59-.52 0-1.04.2-1.43.59L10.3 9.45l-7.72 7.72c-.78.78-.78 2.05 0 2.83L4 21.41c.39.39.9.59 1.41.59.51 0 1.02-.2 1.41-.59l7.78-7.78 2.81-2.81c.8-.78.8-2.07 0-2.86zM5.41 20L4 18.59l7.72-7.72 1.47 1.35L5.41 20z\"/>\n",
              "  </svg>\n",
              "      </button>\n",
              "      \n",
              "  <style>\n",
              "    .colab-df-container {\n",
              "      display:flex;\n",
              "      flex-wrap:wrap;\n",
              "      gap: 12px;\n",
              "    }\n",
              "\n",
              "    .colab-df-convert {\n",
              "      background-color: #E8F0FE;\n",
              "      border: none;\n",
              "      border-radius: 50%;\n",
              "      cursor: pointer;\n",
              "      display: none;\n",
              "      fill: #1967D2;\n",
              "      height: 32px;\n",
              "      padding: 0 0 0 0;\n",
              "      width: 32px;\n",
              "    }\n",
              "\n",
              "    .colab-df-convert:hover {\n",
              "      background-color: #E2EBFA;\n",
              "      box-shadow: 0px 1px 2px rgba(60, 64, 67, 0.3), 0px 1px 3px 1px rgba(60, 64, 67, 0.15);\n",
              "      fill: #174EA6;\n",
              "    }\n",
              "\n",
              "    [theme=dark] .colab-df-convert {\n",
              "      background-color: #3B4455;\n",
              "      fill: #D2E3FC;\n",
              "    }\n",
              "\n",
              "    [theme=dark] .colab-df-convert:hover {\n",
              "      background-color: #434B5C;\n",
              "      box-shadow: 0px 1px 3px 1px rgba(0, 0, 0, 0.15);\n",
              "      filter: drop-shadow(0px 1px 2px rgba(0, 0, 0, 0.3));\n",
              "      fill: #FFFFFF;\n",
              "    }\n",
              "  </style>\n",
              "\n",
              "      <script>\n",
              "        const buttonEl =\n",
              "          document.querySelector('#df-504bd814-22c5-4b3d-b642-494c7eec5c63 button.colab-df-convert');\n",
              "        buttonEl.style.display =\n",
              "          google.colab.kernel.accessAllowed ? 'block' : 'none';\n",
              "\n",
              "        async function convertToInteractive(key) {\n",
              "          const element = document.querySelector('#df-504bd814-22c5-4b3d-b642-494c7eec5c63');\n",
              "          const dataTable =\n",
              "            await google.colab.kernel.invokeFunction('convertToInteractive',\n",
              "                                                     [key], {});\n",
              "          if (!dataTable) return;\n",
              "\n",
              "          const docLinkHtml = 'Like what you see? Visit the ' +\n",
              "            '<a target=\"_blank\" href=https://colab.research.google.com/notebooks/data_table.ipynb>data table notebook</a>'\n",
              "            + ' to learn more about interactive tables.';\n",
              "          element.innerHTML = '';\n",
              "          dataTable['output_type'] = 'display_data';\n",
              "          await google.colab.output.renderOutput(dataTable, element);\n",
              "          const docLink = document.createElement('div');\n",
              "          docLink.innerHTML = docLinkHtml;\n",
              "          element.appendChild(docLink);\n",
              "        }\n",
              "      </script>\n",
              "    </div>\n",
              "  </div>\n",
              "  "
            ]
          },
          "metadata": {},
          "execution_count": 59
        }
      ]
    },
    {
      "cell_type": "code",
      "source": [
        "# Convertendo os dados para o formato numpy para realizarmos a classificação\n",
        "\n",
        "data_train = train.to_numpy()\n",
        "nrow,ncol = data_train.shape\n",
        "y_train = data_train[:,0]\n",
        "X_train = data_train[:,1:ncol]"
      ],
      "metadata": {
        "id": "MFOb7p6zn317"
      },
      "execution_count": 60,
      "outputs": []
    },
    {
      "cell_type": "code",
      "source": [
        "# Convertendo os dados para o formato numpy para realizarmos a classificação\n",
        "\n",
        "data_test = test.to_numpy()\n",
        "nrow,ncol = data_test.shape\n",
        "y_test = data_test[:,0]\n",
        "X_test = data_test[:,1:ncol]"
      ],
      "metadata": {
        "id": "LZZUGnCr1HiX"
      },
      "execution_count": 61,
      "outputs": []
    },
    {
      "cell_type": "code",
      "source": [
        "# Para o conjunto de teste\n",
        "\n",
        "data_test = test.to_numpy()\n",
        "X_test = data_test"
      ],
      "metadata": {
        "id": "l-nVmFGZpRRb"
      },
      "execution_count": 62,
      "outputs": []
    },
    {
      "cell_type": "markdown",
      "source": [
        "Vamos verificar se as classes estão balanceadas"
      ],
      "metadata": {
        "id": "0r9fLiKXpY3D"
      }
    },
    {
      "cell_type": "code",
      "source": [
        "sns.countplot(data = train, x = 'Survived')\n",
        "sns.set_palette('YlGnBu')\n",
        "plt.title('Número de elementos em cada classe')"
      ],
      "metadata": {
        "colab": {
          "base_uri": "https://localhost:8080/",
          "height": 394
        },
        "id": "fyf_hKVDtRy-",
        "outputId": "81babcee-d72b-4dfc-d619-3aa7f68e73ac"
      },
      "execution_count": 64,
      "outputs": [
        {
          "output_type": "execute_result",
          "data": {
            "text/plain": [
              "Text(0.5, 1.0, 'Número de elementos em cada classe')"
            ]
          },
          "metadata": {},
          "execution_count": 64
        },
        {
          "output_type": "display_data",
          "data": {
            "text/plain": [
              "<Figure size 576x396 with 1 Axes>"
            ],
            "image/png": "[encoded data removed]"
          },
          "metadata": {}
        }
      ]
    },
    {
      "cell_type": "code",
      "source": [
        "train['Survived'].value_counts()"
      ],
      "metadata": {
        "colab": {
          "base_uri": "https://localhost:8080/"
        },
        "id": "mUMrxaMzwpp7",
        "outputId": "91dea0c2-09c8-4f13-d345-24a553d19512"
      },
      "execution_count": 65,
      "outputs": [
        {
          "output_type": "execute_result",
          "data": {
            "text/plain": [
              "0    549\n",
              "1    342\n",
              "Name: Survived, dtype: int64"
            ]
          },
          "metadata": {},
          "execution_count": 65
        }
      ]
    },
    {
      "cell_type": "code",
      "source": [
        "# Normalização dos dados\n",
        "\n",
        "scaler = StandardScaler().fit(X_train)\n",
        "X_train = scaler.transform(X_train)\n",
        "\n",
        "X_test = scaler.transform(X_test)\n",
        "\n",
        "print('Dados transformados:')\n",
        "print('Media: ', np.mean(X_train, axis = 0))\n",
        "print('Desvio Padrao:', np.std(X_train, axis = 0))\n",
        "\n",
        "print('Dados transformados:')\n",
        "print('Media: ', np.mean(X_test, axis = 0))\n",
        "print('Desvio Padrao:', np.std(X_test, axis = 0))"
      ],
      "metadata": {
        "colab": {
          "base_uri": "https://localhost:8080/"
        },
        "id": "btcMrYOyy3p0",
        "outputId": "4834adbd-54c4-459d-9ded-b1717308ede4"
      },
      "execution_count": 66,
      "outputs": [
        {
          "output_type": "stream",
          "name": "stdout",
          "text": [
            "Dados transformados:\n",
            "Media:  [-8.77213254e-17  2.23290646e-16  4.38606627e-17  5.38289951e-17\n",
            "  3.98733297e-18  3.98733297e-17 -1.15632656e-16 -1.99366649e-17\n",
            "  0.00000000e+00 -8.37339924e-17]\n",
            "Desvio Padrao: [1. 1. 1. 1. 1. 1. 1. 1. 1. 1.]\n",
            "Dados transformados:\n",
            "Media:  [-0.05156969  0.04413122 -0.06863058  0.01334498  0.06892064  0.02349348\n",
            " -0.02349348  0.14180391  0.08409087 -0.1771445 ]\n",
            "Desvio Padrao: [1.00625661 0.97111866 0.81269066 1.21679298 1.12298531 1.00695788\n",
            " 1.00695788 1.09804783 1.11376674 1.07106262]\n"
          ]
        }
      ]
    },
    {
      "cell_type": "markdown",
      "source": [
        "## **Análise descritiva dos dados**"
      ],
      "metadata": {
        "id": "GgZCp81HzRvW"
      }
    },
    {
      "cell_type": "code",
      "source": [
        "# Verificando a correlação entre as variáveis\n",
        "\n",
        "sns.heatmap(train.corr(), cmap='YlGnBu')\n",
        "plt.suptitle('Correlação entre variáveis', fontsize=15, fontweight='bold')\n",
        "plt.show()"
      ],
      "metadata": {
        "colab": {
          "base_uri": "https://localhost:8080/",
          "height": 439
        },
        "id": "zP6qHH3-J4xZ",
        "outputId": "abd62bdb-b042-45c7-e0d4-c8bec1b1e2f5"
      },
      "execution_count": 67,
      "outputs": [
        {
          "output_type": "display_data",
          "data": {
            "text/plain": [
              "<Figure size 576x396 with 2 Axes>"
            ],
            "image/png": "[encoded data removed]"
          },
          "metadata": {}
        }
      ]
    },
    {
      "cell_type": "markdown",
      "source": [
        "Ao analisar o gráfico de calor podemos concluir que os atributos **não** são fortemente correlacionados. Além disso, mulheres sobreviveram mais do que os homens.\n",
        "Outra observação importante é que quanto menor o número na Pclass, maior o número em sobrevivência. Quanto menor o número na Pclasse, maior o status e por conseguinte maior sua taxa de sobrevivência."
      ],
      "metadata": {
        "id": "bUmRyWR7UCUD"
      }
    },
    {
      "cell_type": "markdown",
      "source": [
        "Vamos analisar os dados de arcordo com o gênero. Observamos que a taxa de sobrevivência dos homens foi em torno de 25%, enquanto que a das mulheres, de 75%. Portanto, saber se o passageiro era homem ou mulher é uma informação importante a ser levada em conta na classificação"
      ],
      "metadata": {
        "id": "jn4DapqB1sgX"
      }
    },
    {
      "cell_type": "code",
      "source": [
        "sns.catplot(x =\"Sex\", hue =\"Survived\",\n",
        "kind =\"count\", data = train_original)\n",
        "plt.title('Taxa de sobrevivência de acordo com o sexo', fontsize=15)"
      ],
      "metadata": {
        "colab": {
          "base_uri": "https://localhost:8080/",
          "height": 400
        },
        "id": "firPwZns10p2",
        "outputId": "35e67b3a-d70f-43b9-90bb-c020bc591846"
      },
      "execution_count": 68,
      "outputs": [
        {
          "output_type": "execute_result",
          "data": {
            "text/plain": [
              "Text(0.5, 1.0, 'Taxa de sobrevivência de acordo com o sexo')"
            ]
          },
          "metadata": {},
          "execution_count": 68
        },
        {
          "output_type": "display_data",
          "data": {
            "text/plain": [
              "<Figure size 420.75x360 with 1 Axes>"
            ],
            "image/png": "[encoded data removed]"
          },
          "metadata": {}
        }
      ]
    },
    {
      "cell_type": "markdown",
      "source": [
        "Vamos analisar a relação entre a classe do passageiro e se o passageiro sobreviveu. Conforme observamos a seguir, grande parte das mortes ocorreram entre os passageiros da terceira classe. Portanto, essa informação também é importante para classificarmos os passageiros em sobreviventes."
      ],
      "metadata": {
        "id": "HcDDlSia3uVm"
      }
    },
    {
      "cell_type": "code",
      "source": [
        "group = train_original.groupby(['Pclass', 'Survived'])\n",
        "pclass_survived = group.size().unstack()\n",
        "sns.heatmap(pclass_survived, annot = True, fmt =\"d\", cmap='YlGnBu')"
      ],
      "metadata": {
        "colab": {
          "base_uri": "https://localhost:8080/",
          "height": 378
        },
        "id": "vo3kUOYQ3yn8",
        "outputId": "d89497f4-f802-4ab3-f7ee-de509103a566"
      },
      "execution_count": 69,
      "outputs": [
        {
          "output_type": "execute_result",
          "data": {
            "text/plain": [
              "<matplotlib.axes._subplots.AxesSubplot at 0x7f6782101370>"
            ]
          },
          "metadata": {},
          "execution_count": 69
        },
        {
          "output_type": "display_data",
          "data": {
            "text/plain": [
              "<Figure size 576x396 with 2 Axes>"
            ],
            "image/png": "[encoded data removed]"
          },
          "metadata": {}
        }
      ]
    },
    {
      "cell_type": "code",
      "source": [
        "# Comparando idade e sobrevivência\n",
        "\n",
        "sns.violinplot(x =\"Sex\", y =\"Age\", hue =\"Survived\",\n",
        "data = train_original, split = True)"
      ],
      "metadata": {
        "colab": {
          "base_uri": "https://localhost:8080/",
          "height": 378
        },
        "id": "8yUKNfax5l2M",
        "outputId": "c6c46deb-fb9b-4923-dafe-a3c1e9ea12d7"
      },
      "execution_count": 70,
      "outputs": [
        {
          "output_type": "execute_result",
          "data": {
            "text/plain": [
              "<matplotlib.axes._subplots.AxesSubplot at 0x7f678202b430>"
            ]
          },
          "metadata": {},
          "execution_count": 70
        },
        {
          "output_type": "display_data",
          "data": {
            "text/plain": [
              "<Figure size 576x396 with 1 Axes>"
            ],
            "image/png": "[encoded data removed]"
          },
          "metadata": {}
        }
      ]
    },
    {
      "cell_type": "markdown",
      "source": [
        "De acordo com a idade, vemos que boa parte das crianças sobreviveram. Ademais, as mulheres com mais idade e os homens mais jovens apresentaram uma chance maior de sobrevier."
      ],
      "metadata": {
        "id": "MMLTAC3y6Iyy"
      }
    },
    {
      "cell_type": "code",
      "source": [
        "# Comparação tipo de bilhete e chance de sobrevivência\n",
        "\n",
        "# Divide Fare into 4 bins\n",
        "train_original['Fare_Range'] = pd.qcut(train_original['Fare'], 4)\n",
        " \n",
        "# Mostra valores aproximados com base na altura das barras\n",
        "sns.barplot(x ='Fare_Range', y ='Survived',\n",
        "data = train_original)"
      ],
      "metadata": {
        "colab": {
          "base_uri": "https://localhost:8080/",
          "height": 379
        },
        "id": "MgdX5DFf6Tb3",
        "outputId": "fcb407df-4caf-46ae-87eb-650bcb3e837b"
      },
      "execution_count": 71,
      "outputs": [
        {
          "output_type": "execute_result",
          "data": {
            "text/plain": [
              "<matplotlib.axes._subplots.AxesSubplot at 0x7f67821a0280>"
            ]
          },
          "metadata": {},
          "execution_count": 71
        },
        {
          "output_type": "display_data",
          "data": {
            "text/plain": [
              "<Figure size 576x396 with 1 Axes>"
            ],
            "image/png": "[encoded data removed]"
          },
          "metadata": {}
        }
      ]
    },
    {
      "cell_type": "markdown",
      "source": [
        "Como visto anteriormente quanto mais caro o bilhete, maior é a chance de sobrevivência, o que reforça que classe de embarque é uma variável importante."
      ],
      "metadata": {
        "id": "ix9To5Wf7kEj"
      }
    },
    {
      "cell_type": "code",
      "source": [
        "# Comparando ponto de embarque e taxa de sobrevivência \n",
        "sns.catplot(x ='Embarked', hue ='Survived',\n",
        "kind ='count', col ='Pclass', data = train_original)"
      ],
      "metadata": {
        "colab": {
          "base_uri": "https://localhost:8080/",
          "height": 382
        },
        "id": "dprzMylg-VmX",
        "outputId": "945fe39c-325e-457b-ea8c-95d63c0b7428"
      },
      "execution_count": 72,
      "outputs": [
        {
          "output_type": "execute_result",
          "data": {
            "text/plain": [
              "<seaborn.axisgrid.FacetGrid at 0x7f6781ff6cd0>"
            ]
          },
          "metadata": {},
          "execution_count": 72
        },
        {
          "output_type": "display_data",
          "data": {
            "text/plain": [
              "<Figure size 1140.75x360 with 3 Axes>"
            ],
            "image/png": "[encoded data removed]"
          },
          "metadata": {}
        }
      ]
    },
    {
      "cell_type": "markdown",
      "source": [
        "\n",
        "\n",
        "*   Os passageiros que viajaram na 1ª Classe possuem mais que o dobro de chances de sobreviverem em relação aos que compraram a 3ª Classe\n",
        "*   A maioria dos sobreviventes são do porto de Southampton (S).\n",
        "\n",
        "* Em Queenstown (Q) embaracaram a maioria dos passageiros da terceira classe.\n",
        "\n"
      ],
      "metadata": {
        "id": "TLtJClYo-o39"
      }
    },
    {
      "cell_type": "markdown",
      "source": [
        "## **Agrupamento**"
      ],
      "metadata": {
        "id": "vlG66SQXOkUb"
      }
    },
    {
      "cell_type": "code",
      "source": [
        "# Separação entre as classes realizando a projeção dos atributos em duas dimensões usando PCA.\n",
        "pca = PCA(n_components=2)\n",
        "pca_result = pca.fit_transform(X_train)\n",
        "\n",
        "classes = np.unique(y_train)\n",
        "\n",
        "colors = ['Grey', '#66CDAA', 'r', 'c', 'm', 'b', 'k', 'w']\n",
        "aux = 0\n",
        "plt.figure(figsize=(8,5))\n",
        "for c in classes:\n",
        "    if c == 1:\n",
        "        lb = 'Survived'\n",
        "    else:\n",
        "        lb = 'Died'\n",
        "    nodes = np.where(y_train == c)\n",
        "    plt.scatter(pca_result[nodes,0], pca_result[nodes,1], s=50, color = colors[aux], \n",
        "                label = lb)\n",
        "    aux = aux + 1\n",
        " \n",
        "plt.legend()\n",
        "plt.xlabel(\"First component\", fontsize=20)\n",
        "plt.ylabel(\"Second component\", fontsize=20)\n",
        "plt.xticks(color='k', size=20)\n",
        "plt.yticks(color='k', size=20)\n",
        "plt.show(True)"
      ],
      "metadata": {
        "colab": {
          "base_uri": "https://localhost:8080/",
          "height": 352
        },
        "id": "Pn57vPWBOo4G",
        "outputId": "e5d7e7ec-3ec0-4578-b74e-a184d4f3d136"
      },
      "execution_count": 73,
      "outputs": [
        {
          "output_type": "display_data",
          "data": {
            "text/plain": [
              "<Figure size 576x360 with 1 Axes>"
            ],
            "image/png": "[encoded data removed]"
          },
          "metadata": {}
        }
      ]
    },
    {
      "cell_type": "markdown",
      "source": [
        "### **Método k-means**"
      ],
      "metadata": {
        "id": "Fm7pMqN5PLQR"
      }
    },
    {
      "cell_type": "code",
      "source": [
        "k = 3 # numero de clusters a serem identificados\n",
        "# define o método com k clusters\n",
        "kmeans = KMeans(n_clusters=k) \n",
        "# realiza o ajuste considerando os dados X\n",
        "kmeans.fit(pca_result)\n",
        "# faz a predição, identificando os clusters\n",
        "y_km = kmeans.fit_predict(pca_result)\n",
        "\n",
        "plt.figure(figsize=(15,5))\n",
        "# mostra o primeiro gráfico\n",
        "plt.subplot(1, 2, 2)\n",
        "plt.scatter(pca_result[:,0], pca_result[:,1], c=y_km, cmap='Set2', s=50)\n",
        "plt.title('K-means')\n",
        "centers = kmeans.cluster_centers_\n",
        "# mostra os centróides obtidos\n",
        "plt.scatter(centers[:, 0], centers[:, 1], c='red', s=100, alpha=0.9); \n",
        "\n",
        "# mostra o segundo gráfico\n",
        "plt.subplot(1,2, 1)\n",
        "plt.scatter(pca_result[:,0], pca_result[:,1], c=y_train, cmap='Set2', s=50)\n",
        "plt.title('Dados originais')\n",
        "plt.show(True)"
      ],
      "metadata": {
        "colab": {
          "base_uri": "https://localhost:8080/",
          "height": 336
        },
        "id": "xBCexjbEPN-U",
        "outputId": "d1da4cbc-0cfe-4517-9b65-a45eb50182f5"
      },
      "execution_count": 74,
      "outputs": [
        {
          "output_type": "display_data",
          "data": {
            "text/plain": [
              "<Figure size 1080x360 with 2 Axes>"
            ],
            "image/png": "[encoded data removed]"
          },
          "metadata": {}
        }
      ]
    },
    {
      "cell_type": "markdown",
      "source": [
        "# **Avaliação**"
      ],
      "metadata": {
        "id": "U1rNocVlQU2u"
      }
    },
    {
      "cell_type": "markdown",
      "source": [
        "## **Silhouette Score**"
      ],
      "metadata": {
        "id": "y4GxusEQ61pW"
      }
    },
    {
      "cell_type": "markdown",
      "source": [
        "Encontrando um número ideal de clusters no agrupamento K-means"
      ],
      "metadata": {
        "id": "oMFtgnhZDToZ"
      }
    },
    {
      "cell_type": "code",
      "source": [
        "from yellowbrick.cluster import SilhouetteVisualizer\n",
        "\n",
        "fig, ax = plt.subplots(2, 2, figsize=(15,8))\n",
        "for i in [2, 3, 4, 5]:\n",
        "    km = KMeans(n_clusters=i, init='k-means++', n_init=10, max_iter=100, random_state=42)\n",
        "    q, mod = divmod(i, 2)\n",
        "    visualizer = SilhouetteVisualizer(km, colors='yellowbrick', ax=ax[q-1][mod])\n",
        "    visualizer.fit(X_train)"
      ],
      "metadata": {
        "colab": {
          "base_uri": "https://localhost:8080/",
          "height": 483
        },
        "id": "qdca6Iun7ThB",
        "outputId": "839856cc-abcf-4441-dd06-696af5eff7c4"
      },
      "execution_count": 109,
      "outputs": [
        {
          "output_type": "display_data",
          "data": {
            "text/plain": [
              "<Figure size 1080x576 with 4 Axes>"
            ],
            "image/png": "[encoded data removed]"
          },
          "metadata": {}
        }
      ]
    },
    {
      "cell_type": "markdown",
      "source": [
        "Para uma boa escolha de k, devemos nos atentar ao número de clusters onde o gráfico de todos os clusters está além da pontuação média do Silhouette, apresentar espessura uniforme e sem grandes flutuações no tamanho.\n",
        "Analisando os gráficos, concluímos que o k=3 é ideal para ser utilizado no método k-means."
      ],
      "metadata": {
        "id": "0dLX_x8TDMle"
      }
    },
    {
      "cell_type": "markdown",
      "source": [
        "![k=3.png](data:image/png;base64,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)"
      ],
      "metadata": {
        "id": "ncH0YtOkGSaQ"
      }
    },
    {
      "cell_type": "markdown",
      "source": [
        "## **Seleção e ajuste do modelo**"
      ],
      "metadata": {
        "id": "bf4fvarVb56_"
      }
    },
    {
      "cell_type": "code",
      "source": [
        "X = train.drop('Survived', axis=1)\n",
        "y = train.Survived\n",
        "scaler = StandardScaler().fit(X)\n",
        "X = scaler.transform(X)"
      ],
      "metadata": {
        "id": "9oVq4HzgzlEV"
      },
      "execution_count": 85,
      "outputs": []
    },
    {
      "cell_type": "code",
      "source": [
        "LRM = LinearRegression().fit(X_train, y_train)\n",
        "LR = LogisticRegression().fit(X_train, y_train)\n",
        "KNN = KNeighborsClassifier(n_neighbors=7).fit(X_train, y_train)\n",
        "gaussian = GaussianNB().fit(X_train, y_train)\n",
        "RF = RandomForestClassifier(n_estimators=10).fit(X_train, y_train)\n",
        "svc = SVC().fit(X_train, y_train)"
      ],
      "metadata": {
        "id": "itDGyvTS0MfX"
      },
      "execution_count": 86,
      "outputs": []
    },
    {
      "cell_type": "code",
      "source": [
        "models = [LRM, LR, KNN, gaussian, RF, svc]\n",
        "\n",
        "comparison = pd.DataFrame({\n",
        "    'Model': ['LRM', \n",
        "              'Logistic Regression', \n",
        "              'KNN', \n",
        "              'Naive Bayes',\n",
        "              'Random Forest',\n",
        "              'SVC'],\n",
        "    'Score': [i.score(X_train, y_train) for  i in models],\n",
        "    'MSE': [metrics.mean_squared_error(y_test, i.predict(X_test)) for i in models]})\n",
        "\n",
        "comparison_df = comparison.sort_values(by='Score', ascending=False).reset_index(drop=True).set_index('Model')\n",
        "\n",
        "comparison_df.iloc[:]"
      ],
      "metadata": {
        "colab": {
          "base_uri": "https://localhost:8080/",
          "height": 269
        },
        "id": "BXtm7t7O0Ygc",
        "outputId": "bcedaacf-0d8e-488b-ea1d-bc928be6545e"
      },
      "execution_count": 87,
      "outputs": [
        {
          "output_type": "execute_result",
          "data": {
            "text/plain": [
              "                        Score       MSE\n",
              "Model                                  \n",
              "Random Forest        0.968575  4.966507\n",
              "KNN                  0.842873  4.724880\n",
              "SVC                  0.842873  4.940191\n",
              "Logistic Regression  0.800224  4.732057\n",
              "Naive Bayes          0.791246  4.617225\n",
              "LRM                  0.398159  4.519807"
            ],
            "text/html": [
              "\n",
              "  <div id=\"df-72997034-8f94-49b5-94d7-f334b189a05b\">\n",
              "    <div class=\"colab-df-container\">\n",
              "      <div>\n",
              "<style scoped>\n",
              "    .dataframe tbody tr th:only-of-type {\n",
              "        vertical-align: middle;\n",
              "    }\n",
              "\n",
              "    .dataframe tbody tr th {\n",
              "        vertical-align: top;\n",
              "    }\n",
              "\n",
              "    .dataframe thead th {\n",
              "        text-align: right;\n",
              "    }\n",
              "</style>\n",
              "<table border=\"1\" class=\"dataframe\">\n",
              "  <thead>\n",
              "    <tr style=\"text-align: right;\">\n",
              "      <th></th>\n",
              "      <th>Score</th>\n",
              "      <th>MSE</th>\n",
              "    </tr>\n",
              "    <tr>\n",
              "      <th>Model</th>\n",
              "      <th></th>\n",
              "      <th></th>\n",
              "    </tr>\n",
              "  </thead>\n",
              "  <tbody>\n",
              "    <tr>\n",
              "      <th>Random Forest</th>\n",
              "      <td>0.968575</td>\n",
              "      <td>4.966507</td>\n",
              "    </tr>\n",
              "    <tr>\n",
              "      <th>KNN</th>\n",
              "      <td>0.842873</td>\n",
              "      <td>4.724880</td>\n",
              "    </tr>\n",
              "    <tr>\n",
              "      <th>SVC</th>\n",
              "      <td>0.842873</td>\n",
              "      <td>4.940191</td>\n",
              "    </tr>\n",
              "    <tr>\n",
              "      <th>Logistic Regression</th>\n",
              "      <td>0.800224</td>\n",
              "      <td>4.732057</td>\n",
              "    </tr>\n",
              "    <tr>\n",
              "      <th>Naive Bayes</th>\n",
              "      <td>0.791246</td>\n",
              "      <td>4.617225</td>\n",
              "    </tr>\n",
              "    <tr>\n",
              "      <th>LRM</th>\n",
              "      <td>0.398159</td>\n",
              "      <td>4.519807</td>\n",
              "    </tr>\n",
              "  </tbody>\n",
              "</table>\n",
              "</div>\n",
              "      <button class=\"colab-df-convert\" onclick=\"convertToInteractive('df-72997034-8f94-49b5-94d7-f334b189a05b')\"\n",
              "              title=\"Convert this dataframe to an interactive table.\"\n",
              "              style=\"display:none;\">\n",
              "        \n",
              "  <svg xmlns=\"http://www.w3.org/2000/svg\" height=\"24px\"viewBox=\"0 0 24 24\"\n",
              "       width=\"24px\">\n",
              "    <path d=\"M0 0h24v24H0V0z\" fill=\"none\"/>\n",
              "    <path d=\"M18.56 5.44l.94 2.06.94-2.06 2.06-.94-2.06-.94-.94-2.06-.94 2.06-2.06.94zm-11 1L8.5 8.5l.94-2.06 2.06-.94-2.06-.94L8.5 2.5l-.94 2.06-2.06.94zm10 10l.94 2.06.94-2.06 2.06-.94-2.06-.94-.94-2.06-.94 2.06-2.06.94z\"/><path d=\"M17.41 7.96l-1.37-1.37c-.4-.4-.92-.59-1.43-.59-.52 0-1.04.2-1.43.59L10.3 9.45l-7.72 7.72c-.78.78-.78 2.05 0 2.83L4 21.41c.39.39.9.59 1.41.59.51 0 1.02-.2 1.41-.59l7.78-7.78 2.81-2.81c.8-.78.8-2.07 0-2.86zM5.41 20L4 18.59l7.72-7.72 1.47 1.35L5.41 20z\"/>\n",
              "  </svg>\n",
              "      </button>\n",
              "      \n",
              "  <style>\n",
              "    .colab-df-container {\n",
              "      display:flex;\n",
              "      flex-wrap:wrap;\n",
              "      gap: 12px;\n",
              "    }\n",
              "\n",
              "    .colab-df-convert {\n",
              "      background-color: #E8F0FE;\n",
              "      border: none;\n",
              "      border-radius: 50%;\n",
              "      cursor: pointer;\n",
              "      display: none;\n",
              "      fill: #1967D2;\n",
              "      height: 32px;\n",
              "      padding: 0 0 0 0;\n",
              "      width: 32px;\n",
              "    }\n",
              "\n",
              "    .colab-df-convert:hover {\n",
              "      background-color: #E2EBFA;\n",
              "      box-shadow: 0px 1px 2px rgba(60, 64, 67, 0.3), 0px 1px 3px 1px rgba(60, 64, 67, 0.15);\n",
              "      fill: #174EA6;\n",
              "    }\n",
              "\n",
              "    [theme=dark] .colab-df-convert {\n",
              "      background-color: #3B4455;\n",
              "      fill: #D2E3FC;\n",
              "    }\n",
              "\n",
              "    [theme=dark] .colab-df-convert:hover {\n",
              "      background-color: #434B5C;\n",
              "      box-shadow: 0px 1px 3px 1px rgba(0, 0, 0, 0.15);\n",
              "      filter: drop-shadow(0px 1px 2px rgba(0, 0, 0, 0.3));\n",
              "      fill: #FFFFFF;\n",
              "    }\n",
              "  </style>\n",
              "\n",
              "      <script>\n",
              "        const buttonEl =\n",
              "          document.querySelector('#df-72997034-8f94-49b5-94d7-f334b189a05b button.colab-df-convert');\n",
              "        buttonEl.style.display =\n",
              "          google.colab.kernel.accessAllowed ? 'block' : 'none';\n",
              "\n",
              "        async function convertToInteractive(key) {\n",
              "          const element = document.querySelector('#df-72997034-8f94-49b5-94d7-f334b189a05b');\n",
              "          const dataTable =\n",
              "            await google.colab.kernel.invokeFunction('convertToInteractive',\n",
              "                                                     [key], {});\n",
              "          if (!dataTable) return;\n",
              "\n",
              "          const docLinkHtml = 'Like what you see? Visit the ' +\n",
              "            '<a target=\"_blank\" href=https://colab.research.google.com/notebooks/data_table.ipynb>data table notebook</a>'\n",
              "            + ' to learn more about interactive tables.';\n",
              "          element.innerHTML = '';\n",
              "          dataTable['output_type'] = 'display_data';\n",
              "          await google.colab.output.renderOutput(dataTable, element);\n",
              "          const docLink = document.createElement('div');\n",
              "          docLink.innerHTML = docLinkHtml;\n",
              "          element.appendChild(docLink);\n",
              "        }\n",
              "      </script>\n",
              "    </div>\n",
              "  </div>\n",
              "  "
            ]
          },
          "metadata": {},
          "execution_count": 87
        }
      ]
    },
    {
      "cell_type": "markdown",
      "source": [
        "## **Random Forest**"
      ],
      "metadata": {
        "id": "HDM8-Jgl2ww2"
      }
    },
    {
      "cell_type": "code",
      "source": [
        "y_pred = RF.predict(X_test) \n",
        "y_pred = np.array(y_pred, dtype = int)\n",
        "prediction = pd.DataFrame()\n",
        "prediction['PassengerId'] = PassengerId_test\n",
        "prediction['Survived'] = y_pred\n",
        "\n",
        "prediction.to_csv('Titanic-RF.csv', index = False)"
      ],
      "metadata": {
        "id": "akGgIcwv2Vax"
      },
      "execution_count": 88,
      "outputs": []
    },
    {
      "cell_type": "markdown",
      "source": [
        "**Pontuação: 0,74401**"
      ],
      "metadata": {
        "id": "iEhn_ZHi2qEP"
      }
    },
    {
      "cell_type": "markdown",
      "source": [
        "## **KNN**"
      ],
      "metadata": {
        "id": "93L5SCP220J8"
      }
    },
    {
      "cell_type": "code",
      "source": [
        "y_pred = KNN.predict(X_test) \n",
        "y_pred = np.array(y_pred, dtype = int)\n",
        "prediction = pd.DataFrame()\n",
        "prediction['PassengerId'] = PassengerId_test\n",
        "prediction['Survived'] = y_pred\n",
        "\n",
        "prediction.to_csv('Titanic-KNN.csv', index = False)"
      ],
      "metadata": {
        "id": "-1jR9lMz22M9"
      },
      "execution_count": 80,
      "outputs": []
    },
    {
      "cell_type": "markdown",
      "source": [
        "**Pontuação: 0,77511**"
      ],
      "metadata": {
        "id": "sfIU_JHa3GNH"
      }
    },
    {
      "cell_type": "markdown",
      "source": [
        "## **Logistic Regression**"
      ],
      "metadata": {
        "id": "tEKuEk1p3N_e"
      }
    },
    {
      "cell_type": "code",
      "source": [
        "y_pred = LR.predict(X_test) \n",
        "y_pred = np.array(y_pred, dtype = int)\n",
        "prediction = pd.DataFrame()\n",
        "prediction['PassengerId'] = PassengerId_test\n",
        "prediction['Survived'] = y_pred\n",
        "\n",
        "prediction.to_csv('Titanic-LR.csv', index = False)"
      ],
      "metadata": {
        "id": "xEMdevb10YoE"
      },
      "execution_count": 82,
      "outputs": []
    },
    {
      "cell_type": "markdown",
      "source": [
        "**Pontuação: 0,76794**"
      ],
      "metadata": {
        "id": "rl4FKgrp3xuY"
      }
    },
    {
      "cell_type": "markdown",
      "source": [
        "## **Naive Bayes**"
      ],
      "metadata": {
        "id": "tApvq17r4C1G"
      }
    },
    {
      "cell_type": "code",
      "source": [
        "y_pred = gaussian.predict(X_test) \n",
        "y_pred = np.array(y_pred, dtype = int)\n",
        "prediction = pd.DataFrame()\n",
        "prediction['PassengerId'] = PassengerId_test\n",
        "prediction['Survived'] = y_pred\n",
        "\n",
        "prediction.to_csv('Titanic-NB.csv', index = False)"
      ],
      "metadata": {
        "id": "50RMLGWS4Hbx"
      },
      "execution_count": 83,
      "outputs": []
    },
    {
      "cell_type": "markdown",
      "source": [
        "**Pontuação: 0,75358**"
      ],
      "metadata": {
        "id": "Gh4dEcYe4dki"
      }
    },
    {
      "cell_type": "markdown",
      "source": [
        "## **Linear Regression**"
      ],
      "metadata": {
        "id": "d2GWpXHW4hdy"
      }
    },
    {
      "cell_type": "code",
      "source": [
        "y_pred = LRM.predict(X_test) \n",
        "y_pred = np.array(y_pred, dtype = int)\n",
        "prediction = pd.DataFrame()\n",
        "prediction['PassengerId'] = PassengerId_test\n",
        "prediction['Survived'] = y_pred\n",
        "\n",
        "prediction.to_csv('Titanic-LRM.csv', index = False)"
      ],
      "metadata": {
        "id": "8uC1iVWr4rfb"
      },
      "execution_count": 84,
      "outputs": []
    },
    {
      "cell_type": "markdown",
      "source": [
        "**Pontuação: 0,64832**"
      ],
      "metadata": {
        "id": "40H8Tgek45_1"
      }
    },
    {
      "cell_type": "markdown",
      "source": [
        "## **SVC**"
      ],
      "metadata": {
        "id": "DLFusLZ_516T"
      }
    },
    {
      "cell_type": "code",
      "source": [
        "y_pred = svc.predict(X_test) \n",
        "y_pred = np.array(y_pred, dtype = int)\n",
        "prediction = pd.DataFrame()\n",
        "prediction['PassengerId'] = PassengerId_test\n",
        "prediction['Survived'] = y_pred\n",
        "\n",
        "prediction.to_csv('Titanic-SVC.csv', index = False)"
      ],
      "metadata": {
        "id": "eu9Irrpc53n9"
      },
      "execution_count": 89,
      "outputs": []
    },
    {
      "cell_type": "markdown",
      "source": [
        "**Pontuação: 0,7799**"
      ],
      "metadata": {
        "id": "6OdMCUQg6UuX"
      }
    },
    {
      "cell_type": "markdown",
      "source": [
        "Portanto, o Support Vector Classifier (**SVC**) foi o classificador com melhor pontuação na plataforma Kaggle, com score de aproximadamente **0,78**."
      ],
      "metadata": {
        "id": "OpHP_Agr7tEE"
      }
    }
  ]
}